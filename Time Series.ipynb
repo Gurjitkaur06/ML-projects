{
 "cells": [
  {
   "cell_type": "markdown",
   "id": "d9e5f473",
   "metadata": {},
   "source": [
    "## Importing Libraries"
   ]
  },
  {
   "cell_type": "code",
   "execution_count": 227,
   "id": "b8c6dbb3",
   "metadata": {},
   "outputs": [],
   "source": [
    "import numpy as np\n",
    "import pandas as pd\n",
    "import matplotlib.pyplot as plt\n",
    "import seaborn as sns\n",
    "import warnings\n",
    "warnings.filterwarnings('ignore')"
   ]
  },
  {
   "cell_type": "markdown",
   "id": "74e5375e",
   "metadata": {},
   "source": [
    "## Let us Import and Explore the Dataset"
   ]
  },
  {
   "cell_type": "code",
   "execution_count": 228,
   "id": "eff94300",
   "metadata": {},
   "outputs": [],
   "source": [
    "# Importing the data from csv file\n",
    "\n",
    "data = pd.read_csv(\"perrin-freres-monthly-champagne-.csv\")"
   ]
  },
  {
   "cell_type": "code",
   "execution_count": 229,
   "id": "f7a9aa54",
   "metadata": {},
   "outputs": [
    {
     "data": {
      "text/html": [
       "<div>\n",
       "<style scoped>\n",
       "    .dataframe tbody tr th:only-of-type {\n",
       "        vertical-align: middle;\n",
       "    }\n",
       "\n",
       "    .dataframe tbody tr th {\n",
       "        vertical-align: top;\n",
       "    }\n",
       "\n",
       "    .dataframe thead th {\n",
       "        text-align: right;\n",
       "    }\n",
       "</style>\n",
       "<table border=\"1\" class=\"dataframe\">\n",
       "  <thead>\n",
       "    <tr style=\"text-align: right;\">\n",
       "      <th></th>\n",
       "      <th>Month</th>\n",
       "      <th>Perrin Freres monthly champagne sales millions ?64-?72</th>\n",
       "    </tr>\n",
       "  </thead>\n",
       "  <tbody>\n",
       "    <tr>\n",
       "      <th>0</th>\n",
       "      <td>1964-01</td>\n",
       "      <td>2815.0</td>\n",
       "    </tr>\n",
       "    <tr>\n",
       "      <th>1</th>\n",
       "      <td>1964-02</td>\n",
       "      <td>2672.0</td>\n",
       "    </tr>\n",
       "    <tr>\n",
       "      <th>2</th>\n",
       "      <td>1964-03</td>\n",
       "      <td>2755.0</td>\n",
       "    </tr>\n",
       "    <tr>\n",
       "      <th>3</th>\n",
       "      <td>1964-04</td>\n",
       "      <td>2721.0</td>\n",
       "    </tr>\n",
       "    <tr>\n",
       "      <th>4</th>\n",
       "      <td>1964-05</td>\n",
       "      <td>2946.0</td>\n",
       "    </tr>\n",
       "  </tbody>\n",
       "</table>\n",
       "</div>"
      ],
      "text/plain": [
       "     Month  Perrin Freres monthly champagne sales millions ?64-?72\n",
       "0  1964-01                                             2815.0     \n",
       "1  1964-02                                             2672.0     \n",
       "2  1964-03                                             2755.0     \n",
       "3  1964-04                                             2721.0     \n",
       "4  1964-05                                             2946.0     "
      ]
     },
     "execution_count": 229,
     "metadata": {},
     "output_type": "execute_result"
    }
   ],
   "source": [
    "# Showing the head of the data\n",
    "\n",
    "data.head()"
   ]
  },
  {
   "cell_type": "code",
   "execution_count": 230,
   "id": "767de5f4",
   "metadata": {},
   "outputs": [
    {
     "name": "stdout",
     "output_type": "stream",
     "text": [
      "No of records: 107\n",
      "No of Attributes: 2\n"
     ]
    }
   ],
   "source": [
    "data.shape\n",
    "print(\"No of records:\", data.shape[0])\n",
    "print(\"No of Attributes:\", data.shape[1])"
   ]
  },
  {
   "cell_type": "code",
   "execution_count": 231,
   "id": "5a91ba22",
   "metadata": {},
   "outputs": [
    {
     "name": "stdout",
     "output_type": "stream",
     "text": [
      "<class 'pandas.core.frame.DataFrame'>\n",
      "RangeIndex: 107 entries, 0 to 106\n",
      "Data columns (total 2 columns):\n",
      " #   Column                                                  Non-Null Count  Dtype  \n",
      "---  ------                                                  --------------  -----  \n",
      " 0   Month                                                   106 non-null    object \n",
      " 1   Perrin Freres monthly champagne sales millions ?64-?72  105 non-null    float64\n",
      "dtypes: float64(1), object(1)\n",
      "memory usage: 1.8+ KB\n"
     ]
    }
   ],
   "source": [
    "# Information about the data\n",
    "\n",
    "data.info()"
   ]
  },
  {
   "cell_type": "markdown",
   "id": "20fcf167",
   "metadata": {},
   "source": [
    "### Cleaning the dataset"
   ]
  },
  {
   "cell_type": "code",
   "execution_count": 232,
   "id": "c048ea05",
   "metadata": {},
   "outputs": [],
   "source": [
    "# Renaming the columns of the data for easy access\n",
    "\n",
    "data.columns=['Month','Sales']"
   ]
  },
  {
   "cell_type": "code",
   "execution_count": 233,
   "id": "956fff42",
   "metadata": {},
   "outputs": [
    {
     "data": {
      "text/html": [
       "<div>\n",
       "<style scoped>\n",
       "    .dataframe tbody tr th:only-of-type {\n",
       "        vertical-align: middle;\n",
       "    }\n",
       "\n",
       "    .dataframe tbody tr th {\n",
       "        vertical-align: top;\n",
       "    }\n",
       "\n",
       "    .dataframe thead th {\n",
       "        text-align: right;\n",
       "    }\n",
       "</style>\n",
       "<table border=\"1\" class=\"dataframe\">\n",
       "  <thead>\n",
       "    <tr style=\"text-align: right;\">\n",
       "      <th></th>\n",
       "      <th>Month</th>\n",
       "      <th>Sales</th>\n",
       "    </tr>\n",
       "  </thead>\n",
       "  <tbody>\n",
       "    <tr>\n",
       "      <th>0</th>\n",
       "      <td>1964-01</td>\n",
       "      <td>2815.0</td>\n",
       "    </tr>\n",
       "    <tr>\n",
       "      <th>1</th>\n",
       "      <td>1964-02</td>\n",
       "      <td>2672.0</td>\n",
       "    </tr>\n",
       "    <tr>\n",
       "      <th>2</th>\n",
       "      <td>1964-03</td>\n",
       "      <td>2755.0</td>\n",
       "    </tr>\n",
       "    <tr>\n",
       "      <th>3</th>\n",
       "      <td>1964-04</td>\n",
       "      <td>2721.0</td>\n",
       "    </tr>\n",
       "    <tr>\n",
       "      <th>4</th>\n",
       "      <td>1964-05</td>\n",
       "      <td>2946.0</td>\n",
       "    </tr>\n",
       "  </tbody>\n",
       "</table>\n",
       "</div>"
      ],
      "text/plain": [
       "     Month   Sales\n",
       "0  1964-01  2815.0\n",
       "1  1964-02  2672.0\n",
       "2  1964-03  2755.0\n",
       "3  1964-04  2721.0\n",
       "4  1964-05  2946.0"
      ]
     },
     "execution_count": 233,
     "metadata": {},
     "output_type": "execute_result"
    }
   ],
   "source": [
    "data.head()"
   ]
  },
  {
   "cell_type": "code",
   "execution_count": 234,
   "id": "3803493a",
   "metadata": {},
   "outputs": [
    {
     "data": {
      "text/plain": [
       "Month    1\n",
       "Sales    2\n",
       "dtype: int64"
      ]
     },
     "execution_count": 234,
     "metadata": {},
     "output_type": "execute_result"
    }
   ],
   "source": [
    "# Checking for missing values\n",
    "\n",
    "data.isnull().sum()"
   ]
  },
  {
   "cell_type": "markdown",
   "id": "95168ba5",
   "metadata": {},
   "source": [
    "Here we see that there is 1 missing value in Month and 2 missing values in Sales"
   ]
  },
  {
   "cell_type": "code",
   "execution_count": 235,
   "id": "bd18216a",
   "metadata": {},
   "outputs": [
    {
     "data": {
      "text/html": [
       "<div>\n",
       "<style scoped>\n",
       "    .dataframe tbody tr th:only-of-type {\n",
       "        vertical-align: middle;\n",
       "    }\n",
       "\n",
       "    .dataframe tbody tr th {\n",
       "        vertical-align: top;\n",
       "    }\n",
       "\n",
       "    .dataframe thead th {\n",
       "        text-align: right;\n",
       "    }\n",
       "</style>\n",
       "<table border=\"1\" class=\"dataframe\">\n",
       "  <thead>\n",
       "    <tr style=\"text-align: right;\">\n",
       "      <th></th>\n",
       "      <th>Month</th>\n",
       "      <th>Sales</th>\n",
       "    </tr>\n",
       "  </thead>\n",
       "  <tbody>\n",
       "    <tr>\n",
       "      <th>105</th>\n",
       "      <td>NaN</td>\n",
       "      <td>NaN</td>\n",
       "    </tr>\n",
       "    <tr>\n",
       "      <th>106</th>\n",
       "      <td>Perrin Freres monthly champagne sales millions...</td>\n",
       "      <td>NaN</td>\n",
       "    </tr>\n",
       "  </tbody>\n",
       "</table>\n",
       "</div>"
      ],
      "text/plain": [
       "                                                 Month  Sales\n",
       "105                                                NaN    NaN\n",
       "106  Perrin Freres monthly champagne sales millions...    NaN"
      ]
     },
     "execution_count": 235,
     "metadata": {},
     "output_type": "execute_result"
    }
   ],
   "source": [
    "# Checking the index of missing values\n",
    "\n",
    "data[data['Sales'].isnull()]"
   ]
  },
  {
   "cell_type": "code",
   "execution_count": 236,
   "id": "64ef7cb1",
   "metadata": {},
   "outputs": [],
   "source": [
    "# Dropping the missing values, since manipulation is not required\n",
    "\n",
    "data.drop(index=[105,106], inplace=True)"
   ]
  },
  {
   "cell_type": "code",
   "execution_count": 237,
   "id": "c5225316",
   "metadata": {},
   "outputs": [
    {
     "data": {
      "text/plain": [
       "Month    0\n",
       "Sales    0\n",
       "dtype: int64"
      ]
     },
     "execution_count": 237,
     "metadata": {},
     "output_type": "execute_result"
    }
   ],
   "source": [
    "data.isnull().sum()"
   ]
  },
  {
   "cell_type": "code",
   "execution_count": 238,
   "id": "93f906f6",
   "metadata": {},
   "outputs": [
    {
     "data": {
      "text/html": [
       "<div>\n",
       "<style scoped>\n",
       "    .dataframe tbody tr th:only-of-type {\n",
       "        vertical-align: middle;\n",
       "    }\n",
       "\n",
       "    .dataframe tbody tr th {\n",
       "        vertical-align: top;\n",
       "    }\n",
       "\n",
       "    .dataframe thead th {\n",
       "        text-align: right;\n",
       "    }\n",
       "</style>\n",
       "<table border=\"1\" class=\"dataframe\">\n",
       "  <thead>\n",
       "    <tr style=\"text-align: right;\">\n",
       "      <th></th>\n",
       "      <th>Month</th>\n",
       "      <th>Sales</th>\n",
       "    </tr>\n",
       "  </thead>\n",
       "  <tbody>\n",
       "    <tr>\n",
       "      <th>0</th>\n",
       "      <td>1964-01</td>\n",
       "      <td>2815.0</td>\n",
       "    </tr>\n",
       "    <tr>\n",
       "      <th>1</th>\n",
       "      <td>1964-02</td>\n",
       "      <td>2672.0</td>\n",
       "    </tr>\n",
       "    <tr>\n",
       "      <th>2</th>\n",
       "      <td>1964-03</td>\n",
       "      <td>2755.0</td>\n",
       "    </tr>\n",
       "    <tr>\n",
       "      <th>3</th>\n",
       "      <td>1964-04</td>\n",
       "      <td>2721.0</td>\n",
       "    </tr>\n",
       "    <tr>\n",
       "      <th>4</th>\n",
       "      <td>1964-05</td>\n",
       "      <td>2946.0</td>\n",
       "    </tr>\n",
       "    <tr>\n",
       "      <th>...</th>\n",
       "      <td>...</td>\n",
       "      <td>...</td>\n",
       "    </tr>\n",
       "    <tr>\n",
       "      <th>100</th>\n",
       "      <td>1972-05</td>\n",
       "      <td>4618.0</td>\n",
       "    </tr>\n",
       "    <tr>\n",
       "      <th>101</th>\n",
       "      <td>1972-06</td>\n",
       "      <td>5312.0</td>\n",
       "    </tr>\n",
       "    <tr>\n",
       "      <th>102</th>\n",
       "      <td>1972-07</td>\n",
       "      <td>4298.0</td>\n",
       "    </tr>\n",
       "    <tr>\n",
       "      <th>103</th>\n",
       "      <td>1972-08</td>\n",
       "      <td>1413.0</td>\n",
       "    </tr>\n",
       "    <tr>\n",
       "      <th>104</th>\n",
       "      <td>1972-09</td>\n",
       "      <td>5877.0</td>\n",
       "    </tr>\n",
       "  </tbody>\n",
       "</table>\n",
       "<p>105 rows × 2 columns</p>\n",
       "</div>"
      ],
      "text/plain": [
       "       Month   Sales\n",
       "0    1964-01  2815.0\n",
       "1    1964-02  2672.0\n",
       "2    1964-03  2755.0\n",
       "3    1964-04  2721.0\n",
       "4    1964-05  2946.0\n",
       "..       ...     ...\n",
       "100  1972-05  4618.0\n",
       "101  1972-06  5312.0\n",
       "102  1972-07  4298.0\n",
       "103  1972-08  1413.0\n",
       "104  1972-09  5877.0\n",
       "\n",
       "[105 rows x 2 columns]"
      ]
     },
     "execution_count": 238,
     "metadata": {},
     "output_type": "execute_result"
    }
   ],
   "source": [
    "data"
   ]
  },
  {
   "cell_type": "code",
   "execution_count": 239,
   "id": "84f68fc5",
   "metadata": {},
   "outputs": [
    {
     "data": {
      "text/plain": [
       "Month     object\n",
       "Sales    float64\n",
       "dtype: object"
      ]
     },
     "execution_count": 239,
     "metadata": {},
     "output_type": "execute_result"
    }
   ],
   "source": [
    "# Checking the data types of the data\n",
    "\n",
    "data.dtypes"
   ]
  },
  {
   "cell_type": "markdown",
   "id": "4f5d37c6",
   "metadata": {},
   "source": [
    "Here we see that Month column data is of object data type and we must convert it into datetime format."
   ]
  },
  {
   "cell_type": "code",
   "execution_count": 240,
   "id": "0a961549",
   "metadata": {},
   "outputs": [],
   "source": [
    "# Converting the data type format\n",
    "\n",
    "data['Month']=pd.to_datetime(data['Month'])"
   ]
  },
  {
   "cell_type": "code",
   "execution_count": 241,
   "id": "b0b30b74",
   "metadata": {},
   "outputs": [
    {
     "data": {
      "text/html": [
       "<div>\n",
       "<style scoped>\n",
       "    .dataframe tbody tr th:only-of-type {\n",
       "        vertical-align: middle;\n",
       "    }\n",
       "\n",
       "    .dataframe tbody tr th {\n",
       "        vertical-align: top;\n",
       "    }\n",
       "\n",
       "    .dataframe thead th {\n",
       "        text-align: right;\n",
       "    }\n",
       "</style>\n",
       "<table border=\"1\" class=\"dataframe\">\n",
       "  <thead>\n",
       "    <tr style=\"text-align: right;\">\n",
       "      <th></th>\n",
       "      <th>Month</th>\n",
       "      <th>Sales</th>\n",
       "    </tr>\n",
       "  </thead>\n",
       "  <tbody>\n",
       "    <tr>\n",
       "      <th>0</th>\n",
       "      <td>1964-01-01</td>\n",
       "      <td>2815.0</td>\n",
       "    </tr>\n",
       "    <tr>\n",
       "      <th>1</th>\n",
       "      <td>1964-02-01</td>\n",
       "      <td>2672.0</td>\n",
       "    </tr>\n",
       "    <tr>\n",
       "      <th>2</th>\n",
       "      <td>1964-03-01</td>\n",
       "      <td>2755.0</td>\n",
       "    </tr>\n",
       "    <tr>\n",
       "      <th>3</th>\n",
       "      <td>1964-04-01</td>\n",
       "      <td>2721.0</td>\n",
       "    </tr>\n",
       "    <tr>\n",
       "      <th>4</th>\n",
       "      <td>1964-05-01</td>\n",
       "      <td>2946.0</td>\n",
       "    </tr>\n",
       "    <tr>\n",
       "      <th>...</th>\n",
       "      <td>...</td>\n",
       "      <td>...</td>\n",
       "    </tr>\n",
       "    <tr>\n",
       "      <th>100</th>\n",
       "      <td>1972-05-01</td>\n",
       "      <td>4618.0</td>\n",
       "    </tr>\n",
       "    <tr>\n",
       "      <th>101</th>\n",
       "      <td>1972-06-01</td>\n",
       "      <td>5312.0</td>\n",
       "    </tr>\n",
       "    <tr>\n",
       "      <th>102</th>\n",
       "      <td>1972-07-01</td>\n",
       "      <td>4298.0</td>\n",
       "    </tr>\n",
       "    <tr>\n",
       "      <th>103</th>\n",
       "      <td>1972-08-01</td>\n",
       "      <td>1413.0</td>\n",
       "    </tr>\n",
       "    <tr>\n",
       "      <th>104</th>\n",
       "      <td>1972-09-01</td>\n",
       "      <td>5877.0</td>\n",
       "    </tr>\n",
       "  </tbody>\n",
       "</table>\n",
       "<p>105 rows × 2 columns</p>\n",
       "</div>"
      ],
      "text/plain": [
       "         Month   Sales\n",
       "0   1964-01-01  2815.0\n",
       "1   1964-02-01  2672.0\n",
       "2   1964-03-01  2755.0\n",
       "3   1964-04-01  2721.0\n",
       "4   1964-05-01  2946.0\n",
       "..         ...     ...\n",
       "100 1972-05-01  4618.0\n",
       "101 1972-06-01  5312.0\n",
       "102 1972-07-01  4298.0\n",
       "103 1972-08-01  1413.0\n",
       "104 1972-09-01  5877.0\n",
       "\n",
       "[105 rows x 2 columns]"
      ]
     },
     "execution_count": 241,
     "metadata": {},
     "output_type": "execute_result"
    }
   ],
   "source": [
    "data"
   ]
  },
  {
   "cell_type": "code",
   "execution_count": 242,
   "id": "147024ff",
   "metadata": {},
   "outputs": [
    {
     "data": {
      "text/plain": [
       "Month    datetime64[ns]\n",
       "Sales           float64\n",
       "dtype: object"
      ]
     },
     "execution_count": 242,
     "metadata": {},
     "output_type": "execute_result"
    }
   ],
   "source": [
    "data.dtypes"
   ]
  },
  {
   "cell_type": "code",
   "execution_count": 243,
   "id": "3625ef0b",
   "metadata": {},
   "outputs": [],
   "source": [
    "# Setting the timestamp as index\n",
    "\n",
    "data.set_index('Month', inplace=True)"
   ]
  },
  {
   "cell_type": "code",
   "execution_count": 244,
   "id": "1cbef2f7",
   "metadata": {},
   "outputs": [
    {
     "data": {
      "text/html": [
       "<div>\n",
       "<style scoped>\n",
       "    .dataframe tbody tr th:only-of-type {\n",
       "        vertical-align: middle;\n",
       "    }\n",
       "\n",
       "    .dataframe tbody tr th {\n",
       "        vertical-align: top;\n",
       "    }\n",
       "\n",
       "    .dataframe thead th {\n",
       "        text-align: right;\n",
       "    }\n",
       "</style>\n",
       "<table border=\"1\" class=\"dataframe\">\n",
       "  <thead>\n",
       "    <tr style=\"text-align: right;\">\n",
       "      <th></th>\n",
       "      <th>Sales</th>\n",
       "    </tr>\n",
       "    <tr>\n",
       "      <th>Month</th>\n",
       "      <th></th>\n",
       "    </tr>\n",
       "  </thead>\n",
       "  <tbody>\n",
       "    <tr>\n",
       "      <th>1964-01-01</th>\n",
       "      <td>2815.0</td>\n",
       "    </tr>\n",
       "    <tr>\n",
       "      <th>1964-02-01</th>\n",
       "      <td>2672.0</td>\n",
       "    </tr>\n",
       "    <tr>\n",
       "      <th>1964-03-01</th>\n",
       "      <td>2755.0</td>\n",
       "    </tr>\n",
       "    <tr>\n",
       "      <th>1964-04-01</th>\n",
       "      <td>2721.0</td>\n",
       "    </tr>\n",
       "    <tr>\n",
       "      <th>1964-05-01</th>\n",
       "      <td>2946.0</td>\n",
       "    </tr>\n",
       "    <tr>\n",
       "      <th>...</th>\n",
       "      <td>...</td>\n",
       "    </tr>\n",
       "    <tr>\n",
       "      <th>1972-05-01</th>\n",
       "      <td>4618.0</td>\n",
       "    </tr>\n",
       "    <tr>\n",
       "      <th>1972-06-01</th>\n",
       "      <td>5312.0</td>\n",
       "    </tr>\n",
       "    <tr>\n",
       "      <th>1972-07-01</th>\n",
       "      <td>4298.0</td>\n",
       "    </tr>\n",
       "    <tr>\n",
       "      <th>1972-08-01</th>\n",
       "      <td>1413.0</td>\n",
       "    </tr>\n",
       "    <tr>\n",
       "      <th>1972-09-01</th>\n",
       "      <td>5877.0</td>\n",
       "    </tr>\n",
       "  </tbody>\n",
       "</table>\n",
       "<p>105 rows × 1 columns</p>\n",
       "</div>"
      ],
      "text/plain": [
       "             Sales\n",
       "Month             \n",
       "1964-01-01  2815.0\n",
       "1964-02-01  2672.0\n",
       "1964-03-01  2755.0\n",
       "1964-04-01  2721.0\n",
       "1964-05-01  2946.0\n",
       "...            ...\n",
       "1972-05-01  4618.0\n",
       "1972-06-01  5312.0\n",
       "1972-07-01  4298.0\n",
       "1972-08-01  1413.0\n",
       "1972-09-01  5877.0\n",
       "\n",
       "[105 rows x 1 columns]"
      ]
     },
     "execution_count": 244,
     "metadata": {},
     "output_type": "execute_result"
    }
   ],
   "source": [
    "data"
   ]
  },
  {
   "cell_type": "code",
   "execution_count": 245,
   "id": "88ed7b75",
   "metadata": {},
   "outputs": [
    {
     "data": {
      "text/html": [
       "<div>\n",
       "<style scoped>\n",
       "    .dataframe tbody tr th:only-of-type {\n",
       "        vertical-align: middle;\n",
       "    }\n",
       "\n",
       "    .dataframe tbody tr th {\n",
       "        vertical-align: top;\n",
       "    }\n",
       "\n",
       "    .dataframe thead th {\n",
       "        text-align: right;\n",
       "    }\n",
       "</style>\n",
       "<table border=\"1\" class=\"dataframe\">\n",
       "  <thead>\n",
       "    <tr style=\"text-align: right;\">\n",
       "      <th></th>\n",
       "      <th>count</th>\n",
       "      <th>mean</th>\n",
       "      <th>std</th>\n",
       "      <th>min</th>\n",
       "      <th>25%</th>\n",
       "      <th>50%</th>\n",
       "      <th>75%</th>\n",
       "      <th>max</th>\n",
       "    </tr>\n",
       "  </thead>\n",
       "  <tbody>\n",
       "    <tr>\n",
       "      <th>Sales</th>\n",
       "      <td>105.0</td>\n",
       "      <td>4761.152381</td>\n",
       "      <td>2553.502601</td>\n",
       "      <td>1413.0</td>\n",
       "      <td>3113.0</td>\n",
       "      <td>4217.0</td>\n",
       "      <td>5221.0</td>\n",
       "      <td>13916.0</td>\n",
       "    </tr>\n",
       "  </tbody>\n",
       "</table>\n",
       "</div>"
      ],
      "text/plain": [
       "       count         mean          std     min     25%     50%     75%  \\\n",
       "Sales  105.0  4761.152381  2553.502601  1413.0  3113.0  4217.0  5221.0   \n",
       "\n",
       "           max  \n",
       "Sales  13916.0  "
      ]
     },
     "execution_count": 245,
     "metadata": {},
     "output_type": "execute_result"
    }
   ],
   "source": [
    "# Statistical measurements of the data\n",
    "\n",
    "data.describe().T"
   ]
  },
  {
   "cell_type": "code",
   "execution_count": 246,
   "id": "bce4caf4",
   "metadata": {},
   "outputs": [
    {
     "data": {
      "image/png": "[encoded data removed]",
      "text/plain": [
       "<Figure size 864x576 with 1 Axes>"
      ]
     },
     "metadata": {
      "needs_background": "light"
     },
     "output_type": "display_data"
    }
   ],
   "source": [
    "plt.figure(figsize=(12,8))\n",
    "plt.plot(data)\n",
    "plt.title('Champagne Sales over Time', fontsize=20)\n",
    "plt.ylabel('Chamopagne Sales', fontsize=16)\n",
    "plt.xlabel('Time', fontsize=16)\n",
    "plt.show()"
   ]
  },
  {
   "cell_type": "markdown",
   "id": "7396a3d7",
   "metadata": {},
   "source": [
    "### Visualizing the data"
   ]
  },
  {
   "cell_type": "code",
   "execution_count": 247,
   "id": "83288730",
   "metadata": {},
   "outputs": [
    {
     "data": {
      "image/png": "[encoded data removed]",
      "text/plain": [
       "<Figure size 864x576 with 1 Axes>"
      ]
     },
     "metadata": {
      "needs_background": "light"
     },
     "output_type": "display_data"
    }
   ],
   "source": [
    "plt.figure(figsize=(12,8))\n",
    "roll_mean = data['Sales'].rolling(12).mean()\n",
    "roll_sd = data['Sales'].rolling(12).std()\n",
    "plt.plot(data['Sales'],label='Sales', color='g')\n",
    "plt.plot(roll_mean,color='r', label='Rolling Mean')\n",
    "plt.plot(roll_sd,color='b', label='Rolling SD')\n",
    "plt.legend()\n",
    "plt.show()"
   ]
  },
  {
   "cell_type": "markdown",
   "id": "1ba7244a",
   "metadata": {},
   "source": [
    "From the above graph, we observe that the Rolling Mean and the Rolling Standard Deviation is not stationary.\n",
    "Let us do further eveluation to check for stationarity."
   ]
  },
  {
   "cell_type": "markdown",
   "id": "d9b61922",
   "metadata": {},
   "source": [
    "# Seasonal Decomposition"
   ]
  },
  {
   "cell_type": "code",
   "execution_count": 248,
   "id": "9002c2de",
   "metadata": {},
   "outputs": [],
   "source": [
    "# Importing Seasonal decompose Statsmodel library\n",
    "\n",
    "from statsmodels.tsa.seasonal import seasonal_decompose"
   ]
  },
  {
   "cell_type": "code",
   "execution_count": 249,
   "id": "f37fb40b",
   "metadata": {},
   "outputs": [
    {
     "data": {
      "image/png": "[encoded data removed]",
      "text/plain": [
       "<Figure size 432x288 with 4 Axes>"
      ]
     },
     "metadata": {
      "needs_background": "light"
     },
     "output_type": "display_data"
    }
   ],
   "source": [
    "# Visualizing the seasonal decompose of the data\n",
    "\n",
    "seasonal_decompose(data, model='additive').plot()\n",
    "plt.show()"
   ]
  },
  {
   "cell_type": "markdown",
   "id": "1f00f4ba",
   "metadata": {},
   "source": [
    "From the above seasonal decompose graph, we can say that there is a positive trend in the data along with seasonality."
   ]
  },
  {
   "cell_type": "markdown",
   "id": "494f56b7",
   "metadata": {},
   "source": [
    "### Checking for Stationarity"
   ]
  },
  {
   "cell_type": "code",
   "execution_count": 250,
   "id": "01a7bb32",
   "metadata": {},
   "outputs": [],
   "source": [
    "# First we have to check the stationarity using adfuller test (Augmented dickyfuller test)\n",
    "#adfuller gives 5 values ['ADF Test Statistic','p-value','#Lags Used','Number of Observations Used']\n",
    "#most important value is p-value"
   ]
  },
  {
   "cell_type": "code",
   "execution_count": 251,
   "id": "86c70019",
   "metadata": {},
   "outputs": [],
   "source": [
    "# Importing adfuller statsmodel library\n",
    "\n",
    "from statsmodels.tsa.stattools import adfuller"
   ]
  },
  {
   "cell_type": "markdown",
   "id": "f90cd528",
   "metadata": {},
   "source": [
    "Let the null hypothesis be:\n",
    "\n",
    "Ho: Data is not Stationary\n",
    "\n",
    "and the alternative hypothesis be:\n",
    "\n",
    "Ha: Data is stationary"
   ]
  },
  {
   "cell_type": "code",
   "execution_count": 252,
   "id": "2fa25461",
   "metadata": {},
   "outputs": [],
   "source": [
    "def adfuller_test(sales):\n",
    "    result = adfuller(sales)\n",
    "    labels = ['ADF test statistics','P-Value','# lags used','No. of observations']\n",
    "    for value,label in zip (result,labels):\n",
    "        print(label+':'+str(value))\n",
    "    if result[1]<0.05:\n",
    "        print('Accept the Ha: Data is Stationary')\n",
    "    else:\n",
    "        print('Accept the Ho: Data is not Stationary')"
   ]
  },
  {
   "cell_type": "code",
   "execution_count": 253,
   "id": "64624abf",
   "metadata": {},
   "outputs": [
    {
     "name": "stdout",
     "output_type": "stream",
     "text": [
      "ADF test statistics:-1.8335930563276237\n",
      "P-Value:0.3639157716602447\n",
      "# lags used:11\n",
      "No. of observations:93\n",
      "Accept the Ho: Data is not Stationary\n"
     ]
    }
   ],
   "source": [
    "adfuller_test(data['Sales'])"
   ]
  },
  {
   "cell_type": "markdown",
   "id": "5ae8b4ba",
   "metadata": {},
   "source": [
    "Using the adfuller test, we see that the data is not stationary.\n",
    "\n",
    "Now we have to make the data stationary using various techniques such as differencing and many more."
   ]
  },
  {
   "cell_type": "markdown",
   "id": "db44af8a",
   "metadata": {},
   "source": [
    "### Differencing"
   ]
  },
  {
   "cell_type": "code",
   "execution_count": 254,
   "id": "3213087c",
   "metadata": {},
   "outputs": [],
   "source": [
    "# Now we have to take the first differencing as well as seasonal differencing of the data"
   ]
  },
  {
   "cell_type": "code",
   "execution_count": 255,
   "id": "b4b448f2",
   "metadata": {},
   "outputs": [
    {
     "data": {
      "text/plain": [
       "Month\n",
       "1964-01-01    2815.0\n",
       "1964-02-01    2672.0\n",
       "1964-03-01    2755.0\n",
       "1964-04-01    2721.0\n",
       "1964-05-01    2946.0\n",
       "1964-06-01    3036.0\n",
       "1964-07-01    2282.0\n",
       "1964-08-01    2212.0\n",
       "1964-09-01    2922.0\n",
       "1964-10-01    4301.0\n",
       "Name: Sales, dtype: float64"
      ]
     },
     "execution_count": 255,
     "metadata": {},
     "output_type": "execute_result"
    }
   ],
   "source": [
    "data['Sales'].head(10)"
   ]
  },
  {
   "cell_type": "code",
   "execution_count": 256,
   "id": "11ae6657",
   "metadata": {},
   "outputs": [
    {
     "data": {
      "text/plain": [
       "Month\n",
       "1964-01-01       NaN\n",
       "1964-02-01    2815.0\n",
       "1964-03-01    2672.0\n",
       "1964-04-01    2755.0\n",
       "1964-05-01    2721.0\n",
       "               ...  \n",
       "1972-05-01    4788.0\n",
       "1972-06-01    4618.0\n",
       "1972-07-01    5312.0\n",
       "1972-08-01    4298.0\n",
       "1972-09-01    1413.0\n",
       "Name: Sales, Length: 105, dtype: float64"
      ]
     },
     "execution_count": 256,
     "metadata": {},
     "output_type": "execute_result"
    }
   ],
   "source": [
    "# Shifting the data upto 1 place\n",
    "\n",
    "data['Sales'].shift(1)"
   ]
  },
  {
   "cell_type": "code",
   "execution_count": 257,
   "id": "4a908d2a",
   "metadata": {},
   "outputs": [],
   "source": [
    "# 1st differenced data\n",
    "\n",
    "data['1st Diff'] = data['Sales']-data['Sales'].shift(1)"
   ]
  },
  {
   "cell_type": "code",
   "execution_count": 258,
   "id": "97fcdfc0",
   "metadata": {},
   "outputs": [
    {
     "data": {
      "text/html": [
       "<div>\n",
       "<style scoped>\n",
       "    .dataframe tbody tr th:only-of-type {\n",
       "        vertical-align: middle;\n",
       "    }\n",
       "\n",
       "    .dataframe tbody tr th {\n",
       "        vertical-align: top;\n",
       "    }\n",
       "\n",
       "    .dataframe thead th {\n",
       "        text-align: right;\n",
       "    }\n",
       "</style>\n",
       "<table border=\"1\" class=\"dataframe\">\n",
       "  <thead>\n",
       "    <tr style=\"text-align: right;\">\n",
       "      <th></th>\n",
       "      <th>Sales</th>\n",
       "      <th>1st Diff</th>\n",
       "    </tr>\n",
       "    <tr>\n",
       "      <th>Month</th>\n",
       "      <th></th>\n",
       "      <th></th>\n",
       "    </tr>\n",
       "  </thead>\n",
       "  <tbody>\n",
       "    <tr>\n",
       "      <th>1964-01-01</th>\n",
       "      <td>2815.0</td>\n",
       "      <td>NaN</td>\n",
       "    </tr>\n",
       "    <tr>\n",
       "      <th>1964-02-01</th>\n",
       "      <td>2672.0</td>\n",
       "      <td>-143.0</td>\n",
       "    </tr>\n",
       "    <tr>\n",
       "      <th>1964-03-01</th>\n",
       "      <td>2755.0</td>\n",
       "      <td>83.0</td>\n",
       "    </tr>\n",
       "    <tr>\n",
       "      <th>1964-04-01</th>\n",
       "      <td>2721.0</td>\n",
       "      <td>-34.0</td>\n",
       "    </tr>\n",
       "    <tr>\n",
       "      <th>1964-05-01</th>\n",
       "      <td>2946.0</td>\n",
       "      <td>225.0</td>\n",
       "    </tr>\n",
       "  </tbody>\n",
       "</table>\n",
       "</div>"
      ],
      "text/plain": [
       "             Sales  1st Diff\n",
       "Month                       \n",
       "1964-01-01  2815.0       NaN\n",
       "1964-02-01  2672.0    -143.0\n",
       "1964-03-01  2755.0      83.0\n",
       "1964-04-01  2721.0     -34.0\n",
       "1964-05-01  2946.0     225.0"
      ]
     },
     "execution_count": 258,
     "metadata": {},
     "output_type": "execute_result"
    }
   ],
   "source": [
    "data.head()"
   ]
  },
  {
   "cell_type": "code",
   "execution_count": 259,
   "id": "70adc885",
   "metadata": {},
   "outputs": [],
   "source": [
    "# Seasonal Differenced data\n",
    "\n",
    "data['Seasonal Diff'] = data['Sales']-data['Sales'].shift(12)"
   ]
  },
  {
   "cell_type": "code",
   "execution_count": 260,
   "id": "7c898e55",
   "metadata": {},
   "outputs": [
    {
     "data": {
      "text/html": [
       "<div>\n",
       "<style scoped>\n",
       "    .dataframe tbody tr th:only-of-type {\n",
       "        vertical-align: middle;\n",
       "    }\n",
       "\n",
       "    .dataframe tbody tr th {\n",
       "        vertical-align: top;\n",
       "    }\n",
       "\n",
       "    .dataframe thead th {\n",
       "        text-align: right;\n",
       "    }\n",
       "</style>\n",
       "<table border=\"1\" class=\"dataframe\">\n",
       "  <thead>\n",
       "    <tr style=\"text-align: right;\">\n",
       "      <th></th>\n",
       "      <th>Sales</th>\n",
       "      <th>1st Diff</th>\n",
       "      <th>Seasonal Diff</th>\n",
       "    </tr>\n",
       "    <tr>\n",
       "      <th>Month</th>\n",
       "      <th></th>\n",
       "      <th></th>\n",
       "      <th></th>\n",
       "    </tr>\n",
       "  </thead>\n",
       "  <tbody>\n",
       "    <tr>\n",
       "      <th>1964-01-01</th>\n",
       "      <td>2815.0</td>\n",
       "      <td>NaN</td>\n",
       "      <td>NaN</td>\n",
       "    </tr>\n",
       "    <tr>\n",
       "      <th>1964-02-01</th>\n",
       "      <td>2672.0</td>\n",
       "      <td>-143.0</td>\n",
       "      <td>NaN</td>\n",
       "    </tr>\n",
       "    <tr>\n",
       "      <th>1964-03-01</th>\n",
       "      <td>2755.0</td>\n",
       "      <td>83.0</td>\n",
       "      <td>NaN</td>\n",
       "    </tr>\n",
       "    <tr>\n",
       "      <th>1964-04-01</th>\n",
       "      <td>2721.0</td>\n",
       "      <td>-34.0</td>\n",
       "      <td>NaN</td>\n",
       "    </tr>\n",
       "    <tr>\n",
       "      <th>1964-05-01</th>\n",
       "      <td>2946.0</td>\n",
       "      <td>225.0</td>\n",
       "      <td>NaN</td>\n",
       "    </tr>\n",
       "    <tr>\n",
       "      <th>...</th>\n",
       "      <td>...</td>\n",
       "      <td>...</td>\n",
       "      <td>...</td>\n",
       "    </tr>\n",
       "    <tr>\n",
       "      <th>1972-05-01</th>\n",
       "      <td>4618.0</td>\n",
       "      <td>-170.0</td>\n",
       "      <td>-392.0</td>\n",
       "    </tr>\n",
       "    <tr>\n",
       "      <th>1972-06-01</th>\n",
       "      <td>5312.0</td>\n",
       "      <td>694.0</td>\n",
       "      <td>438.0</td>\n",
       "    </tr>\n",
       "    <tr>\n",
       "      <th>1972-07-01</th>\n",
       "      <td>4298.0</td>\n",
       "      <td>-1014.0</td>\n",
       "      <td>-335.0</td>\n",
       "    </tr>\n",
       "    <tr>\n",
       "      <th>1972-08-01</th>\n",
       "      <td>1413.0</td>\n",
       "      <td>-2885.0</td>\n",
       "      <td>-246.0</td>\n",
       "    </tr>\n",
       "    <tr>\n",
       "      <th>1972-09-01</th>\n",
       "      <td>5877.0</td>\n",
       "      <td>4464.0</td>\n",
       "      <td>-74.0</td>\n",
       "    </tr>\n",
       "  </tbody>\n",
       "</table>\n",
       "<p>105 rows × 3 columns</p>\n",
       "</div>"
      ],
      "text/plain": [
       "             Sales  1st Diff  Seasonal Diff\n",
       "Month                                      \n",
       "1964-01-01  2815.0       NaN            NaN\n",
       "1964-02-01  2672.0    -143.0            NaN\n",
       "1964-03-01  2755.0      83.0            NaN\n",
       "1964-04-01  2721.0     -34.0            NaN\n",
       "1964-05-01  2946.0     225.0            NaN\n",
       "...            ...       ...            ...\n",
       "1972-05-01  4618.0    -170.0         -392.0\n",
       "1972-06-01  5312.0     694.0          438.0\n",
       "1972-07-01  4298.0   -1014.0         -335.0\n",
       "1972-08-01  1413.0   -2885.0         -246.0\n",
       "1972-09-01  5877.0    4464.0          -74.0\n",
       "\n",
       "[105 rows x 3 columns]"
      ]
     },
     "execution_count": 260,
     "metadata": {},
     "output_type": "execute_result"
    }
   ],
   "source": [
    "data"
   ]
  },
  {
   "cell_type": "code",
   "execution_count": 261,
   "id": "c37cd80d",
   "metadata": {},
   "outputs": [
    {
     "name": "stdout",
     "output_type": "stream",
     "text": [
      "ADF test statistics:-7.626619157213163\n",
      "P-Value:2.060579696813685e-11\n",
      "# lags used:0\n",
      "No. of observations:92\n",
      "Accept the Ha: Data is Stationary\n"
     ]
    }
   ],
   "source": [
    "# Augmented Dickeyfuller Test on seasonal differencing\n",
    "\n",
    "adfuller_test(data['Seasonal Diff'].dropna())"
   ]
  },
  {
   "cell_type": "code",
   "execution_count": 262,
   "id": "072e50f2",
   "metadata": {},
   "outputs": [
    {
     "data": {
      "image/png": "[encoded data removed]",
      "text/plain": [
       "<Figure size 864x576 with 1 Axes>"
      ]
     },
     "metadata": {
      "needs_background": "light"
     },
     "output_type": "display_data"
    }
   ],
   "source": [
    "plt.figure(figsize=(12,8))\n",
    "roll_mean = data['Seasonal Diff'].rolling(12).mean()\n",
    "roll_sd = data['Seasonal Diff'].rolling(12).std()\n",
    "plt.plot(data['Seasonal Diff'],label='Seasonal Diff', color='g')\n",
    "plt.plot(roll_mean,color='r', label='Rolling Mean')\n",
    "plt.plot(roll_sd,color='b', label='Rolling SD')\n",
    "plt.legend()\n",
    "plt.show()"
   ]
  },
  {
   "cell_type": "markdown",
   "id": "174d4c36",
   "metadata": {},
   "source": [
    "## Auto Regression Model"
   ]
  },
  {
   "cell_type": "code",
   "execution_count": 263,
   "id": "5bd6e82e",
   "metadata": {},
   "outputs": [],
   "source": [
    "# Auto correlation plot"
   ]
  },
  {
   "cell_type": "code",
   "execution_count": 264,
   "id": "24941f7b",
   "metadata": {},
   "outputs": [],
   "source": [
    "from pandas.plotting import autocorrelation_plot"
   ]
  },
  {
   "cell_type": "code",
   "execution_count": 265,
   "id": "99d4e605",
   "metadata": {},
   "outputs": [
    {
     "data": {
      "image/png": "[encoded data removed]",
      "text/plain": [
       "<Figure size 432x288 with 1 Axes>"
      ]
     },
     "metadata": {
      "needs_background": "light"
     },
     "output_type": "display_data"
    }
   ],
   "source": [
    "autocorrelation_plot(data['Sales'])\n",
    "plt.show()"
   ]
  },
  {
   "cell_type": "markdown",
   "id": "ada7eba4",
   "metadata": {},
   "source": [
    "From the above autocorrelation plot, we observe that as the lags are increasing the autocorrelation is decreasing."
   ]
  },
  {
   "cell_type": "code",
   "execution_count": 266,
   "id": "38ede876",
   "metadata": {},
   "outputs": [],
   "source": [
    "# Plotting of the ACF and PACF"
   ]
  },
  {
   "cell_type": "code",
   "execution_count": 267,
   "id": "568607ce",
   "metadata": {},
   "outputs": [],
   "source": [
    "# Importing acf and pacf statsmodel library\n",
    "\n",
    "from statsmodels.graphics.tsaplots import plot_acf, plot_pacf"
   ]
  },
  {
   "cell_type": "code",
   "execution_count": 268,
   "id": "69507e6f",
   "metadata": {},
   "outputs": [
    {
     "data": {
      "image/png": "[encoded data removed]",
      "text/plain": [
       "<Figure size 432x288 with 1 Axes>"
      ]
     },
     "metadata": {
      "needs_background": "light"
     },
     "output_type": "display_data"
    }
   ],
   "source": [
    "plot_acf(data['Seasonal Diff'].dropna(), lags=20)\n",
    "plt.show()"
   ]
  },
  {
   "cell_type": "markdown",
   "id": "fa6658b3",
   "metadata": {},
   "source": [
    "Since the shut off in ACF model is at lag 1, the value of q=1"
   ]
  },
  {
   "cell_type": "code",
   "execution_count": 269,
   "id": "3803d64f",
   "metadata": {},
   "outputs": [
    {
     "data": {
      "image/png": "[encoded data removed]",
      "text/plain": [
       "<Figure size 432x288 with 1 Axes>"
      ]
     },
     "metadata": {
      "needs_background": "light"
     },
     "output_type": "display_data"
    }
   ],
   "source": [
    "plot_pacf(data['Seasonal Diff'].dropna(), lags=20)\n",
    "plt.show()"
   ]
  },
  {
   "cell_type": "markdown",
   "id": "497b8e72",
   "metadata": {},
   "source": [
    "Since the taper in PACF model is at lag 1, the value of p=1"
   ]
  },
  {
   "cell_type": "code",
   "execution_count": 270,
   "id": "7bc49907",
   "metadata": {},
   "outputs": [],
   "source": [
    "# d=1 since we have considered first differencing\n",
    "# Hence we have, p=1, d=1, q=1"
   ]
  },
  {
   "cell_type": "markdown",
   "id": "197c7c57",
   "metadata": {},
   "source": [
    "### ARIMA "
   ]
  },
  {
   "cell_type": "code",
   "execution_count": 271,
   "id": "77a924a1",
   "metadata": {},
   "outputs": [],
   "source": [
    "# Importing ARIMA library\n",
    "\n",
    "from statsmodels.tsa.arima.model import ARIMA"
   ]
  },
  {
   "cell_type": "code",
   "execution_count": 272,
   "id": "482ca484",
   "metadata": {},
   "outputs": [],
   "source": [
    "model = ARIMA(data['Sales'], order=(1,1,1))"
   ]
  },
  {
   "cell_type": "code",
   "execution_count": 273,
   "id": "b328c377",
   "metadata": {},
   "outputs": [],
   "source": [
    "model_fit = model.fit()"
   ]
  },
  {
   "cell_type": "code",
   "execution_count": 274,
   "id": "71f956ea",
   "metadata": {},
   "outputs": [
    {
     "data": {
      "text/html": [
       "<table class=\"simpletable\">\n",
       "<caption>SARIMAX Results</caption>\n",
       "<tr>\n",
       "  <th>Dep. Variable:</th>         <td>Sales</td>      <th>  No. Observations:  </th>    <td>105</td>  \n",
       "</tr>\n",
       "<tr>\n",
       "  <th>Model:</th>            <td>ARIMA(1, 1, 1)</td>  <th>  Log Likelihood     </th> <td>-952.814</td>\n",
       "</tr>\n",
       "<tr>\n",
       "  <th>Date:</th>            <td>Mon, 06 Jun 2022</td> <th>  AIC                </th> <td>1911.627</td>\n",
       "</tr>\n",
       "<tr>\n",
       "  <th>Time:</th>                <td>18:10:25</td>     <th>  BIC                </th> <td>1919.560</td>\n",
       "</tr>\n",
       "<tr>\n",
       "  <th>Sample:</th>             <td>01-01-1964</td>    <th>  HQIC               </th> <td>1914.841</td>\n",
       "</tr>\n",
       "<tr>\n",
       "  <th></th>                   <td>- 09-01-1972</td>   <th>                     </th>     <td> </td>   \n",
       "</tr>\n",
       "<tr>\n",
       "  <th>Covariance Type:</th>        <td>opg</td>       <th>                     </th>     <td> </td>   \n",
       "</tr>\n",
       "</table>\n",
       "<table class=\"simpletable\">\n",
       "<tr>\n",
       "     <td></td>       <th>coef</th>     <th>std err</th>      <th>z</th>      <th>P>|z|</th>  <th>[0.025</th>    <th>0.975]</th>  \n",
       "</tr>\n",
       "<tr>\n",
       "  <th>ar.L1</th>  <td>    0.4545</td> <td>    0.114</td> <td>    3.999</td> <td> 0.000</td> <td>    0.232</td> <td>    0.677</td>\n",
       "</tr>\n",
       "<tr>\n",
       "  <th>ma.L1</th>  <td>   -0.9666</td> <td>    0.056</td> <td>  -17.314</td> <td> 0.000</td> <td>   -1.076</td> <td>   -0.857</td>\n",
       "</tr>\n",
       "<tr>\n",
       "  <th>sigma2</th> <td> 5.226e+06</td> <td> 6.17e+05</td> <td>    8.473</td> <td> 0.000</td> <td> 4.02e+06</td> <td> 6.43e+06</td>\n",
       "</tr>\n",
       "</table>\n",
       "<table class=\"simpletable\">\n",
       "<tr>\n",
       "  <th>Ljung-Box (L1) (Q):</th>     <td>0.91</td> <th>  Jarque-Bera (JB):  </th> <td>2.59</td>\n",
       "</tr>\n",
       "<tr>\n",
       "  <th>Prob(Q):</th>                <td>0.34</td> <th>  Prob(JB):          </th> <td>0.27</td>\n",
       "</tr>\n",
       "<tr>\n",
       "  <th>Heteroskedasticity (H):</th> <td>3.40</td> <th>  Skew:              </th> <td>0.05</td>\n",
       "</tr>\n",
       "<tr>\n",
       "  <th>Prob(H) (two-sided):</th>    <td>0.00</td> <th>  Kurtosis:          </th> <td>3.77</td>\n",
       "</tr>\n",
       "</table><br/><br/>Warnings:<br/>[1] Covariance matrix calculated using the outer product of gradients (complex-step)."
      ],
      "text/plain": [
       "<class 'statsmodels.iolib.summary.Summary'>\n",
       "\"\"\"\n",
       "                               SARIMAX Results                                \n",
       "==============================================================================\n",
       "Dep. Variable:                  Sales   No. Observations:                  105\n",
       "Model:                 ARIMA(1, 1, 1)   Log Likelihood                -952.814\n",
       "Date:                Mon, 06 Jun 2022   AIC                           1911.627\n",
       "Time:                        18:10:25   BIC                           1919.560\n",
       "Sample:                    01-01-1964   HQIC                          1914.841\n",
       "                         - 09-01-1972                                         \n",
       "Covariance Type:                  opg                                         \n",
       "==============================================================================\n",
       "                 coef    std err          z      P>|z|      [0.025      0.975]\n",
       "------------------------------------------------------------------------------\n",
       "ar.L1          0.4545      0.114      3.999      0.000       0.232       0.677\n",
       "ma.L1         -0.9666      0.056    -17.314      0.000      -1.076      -0.857\n",
       "sigma2      5.226e+06   6.17e+05      8.473      0.000    4.02e+06    6.43e+06\n",
       "===================================================================================\n",
       "Ljung-Box (L1) (Q):                   0.91   Jarque-Bera (JB):                 2.59\n",
       "Prob(Q):                              0.34   Prob(JB):                         0.27\n",
       "Heteroskedasticity (H):               3.40   Skew:                             0.05\n",
       "Prob(H) (two-sided):                  0.00   Kurtosis:                         3.77\n",
       "===================================================================================\n",
       "\n",
       "Warnings:\n",
       "[1] Covariance matrix calculated using the outer product of gradients (complex-step).\n",
       "\"\"\""
      ]
     },
     "execution_count": 274,
     "metadata": {},
     "output_type": "execute_result"
    }
   ],
   "source": [
    "# Model summary\n",
    "\n",
    "model_fit.summary()"
   ]
  },
  {
   "cell_type": "code",
   "execution_count": 275,
   "id": "a72ca0ac",
   "metadata": {},
   "outputs": [],
   "source": [
    "# Forecasting Using ARIMA model\n",
    "\n",
    "data['Forecast_ARIMA']=model_fit.predict(start=90, end=105, dynamic=True)"
   ]
  },
  {
   "cell_type": "code",
   "execution_count": 276,
   "id": "52c2b440",
   "metadata": {},
   "outputs": [
    {
     "data": {
      "text/plain": [
       "<AxesSubplot:xlabel='Month'>"
      ]
     },
     "execution_count": 276,
     "metadata": {},
     "output_type": "execute_result"
    },
    {
     "data": {
      "image/png": "[encoded data removed]",
      "text/plain": [
       "<Figure size 864x576 with 1 Axes>"
      ]
     },
     "metadata": {
      "needs_background": "light"
     },
     "output_type": "display_data"
    }
   ],
   "source": [
    "# Plotting the ARIMA model\n",
    "\n",
    "data[['Sales','Forecast_ARIMA']].plot(figsize=(12,8))"
   ]
  },
  {
   "cell_type": "markdown",
   "id": "c7f2981e",
   "metadata": {},
   "source": [
    "This is not what we were expecting, the ARIMA model is not working properly on seasonal data. So we must now use Sarimax for our seasonal data"
   ]
  },
  {
   "cell_type": "code",
   "execution_count": 277,
   "id": "9b6f10ab",
   "metadata": {},
   "outputs": [
    {
     "data": {
      "text/html": [
       "<div>\n",
       "<style scoped>\n",
       "    .dataframe tbody tr th:only-of-type {\n",
       "        vertical-align: middle;\n",
       "    }\n",
       "\n",
       "    .dataframe tbody tr th {\n",
       "        vertical-align: top;\n",
       "    }\n",
       "\n",
       "    .dataframe thead th {\n",
       "        text-align: right;\n",
       "    }\n",
       "</style>\n",
       "<table border=\"1\" class=\"dataframe\">\n",
       "  <thead>\n",
       "    <tr style=\"text-align: right;\">\n",
       "      <th></th>\n",
       "      <th>Sales</th>\n",
       "      <th>1st Diff</th>\n",
       "      <th>Seasonal Diff</th>\n",
       "      <th>Forecast_ARIMA</th>\n",
       "    </tr>\n",
       "    <tr>\n",
       "      <th>Month</th>\n",
       "      <th></th>\n",
       "      <th></th>\n",
       "      <th></th>\n",
       "      <th></th>\n",
       "    </tr>\n",
       "  </thead>\n",
       "  <tbody>\n",
       "    <tr>\n",
       "      <th>1971-07-01</th>\n",
       "      <td>4633.0</td>\n",
       "      <td>-241.0</td>\n",
       "      <td>416.0</td>\n",
       "      <td>4977.077431</td>\n",
       "    </tr>\n",
       "    <tr>\n",
       "      <th>1971-08-01</th>\n",
       "      <td>1659.0</td>\n",
       "      <td>-2974.0</td>\n",
       "      <td>-79.0</td>\n",
       "      <td>5023.925600</td>\n",
       "    </tr>\n",
       "    <tr>\n",
       "      <th>1971-09-01</th>\n",
       "      <td>5951.0</td>\n",
       "      <td>4292.0</td>\n",
       "      <td>730.0</td>\n",
       "      <td>5045.217855</td>\n",
       "    </tr>\n",
       "    <tr>\n",
       "      <th>1971-10-01</th>\n",
       "      <td>6981.0</td>\n",
       "      <td>1030.0</td>\n",
       "      <td>557.0</td>\n",
       "      <td>5054.895077</td>\n",
       "    </tr>\n",
       "    <tr>\n",
       "      <th>1971-11-01</th>\n",
       "      <td>9851.0</td>\n",
       "      <td>2870.0</td>\n",
       "      <td>9.0</td>\n",
       "      <td>5059.293326</td>\n",
       "    </tr>\n",
       "    <tr>\n",
       "      <th>1971-12-01</th>\n",
       "      <td>12670.0</td>\n",
       "      <td>2819.0</td>\n",
       "      <td>-406.0</td>\n",
       "      <td>5061.292307</td>\n",
       "    </tr>\n",
       "    <tr>\n",
       "      <th>1972-01-01</th>\n",
       "      <td>4348.0</td>\n",
       "      <td>-8322.0</td>\n",
       "      <td>414.0</td>\n",
       "      <td>5062.200834</td>\n",
       "    </tr>\n",
       "    <tr>\n",
       "      <th>1972-02-01</th>\n",
       "      <td>3564.0</td>\n",
       "      <td>-784.0</td>\n",
       "      <td>402.0</td>\n",
       "      <td>5062.613755</td>\n",
       "    </tr>\n",
       "    <tr>\n",
       "      <th>1972-03-01</th>\n",
       "      <td>4577.0</td>\n",
       "      <td>1013.0</td>\n",
       "      <td>291.0</td>\n",
       "      <td>5062.801425</td>\n",
       "    </tr>\n",
       "    <tr>\n",
       "      <th>1972-04-01</th>\n",
       "      <td>4788.0</td>\n",
       "      <td>211.0</td>\n",
       "      <td>112.0</td>\n",
       "      <td>5062.886721</td>\n",
       "    </tr>\n",
       "    <tr>\n",
       "      <th>1972-05-01</th>\n",
       "      <td>4618.0</td>\n",
       "      <td>-170.0</td>\n",
       "      <td>-392.0</td>\n",
       "      <td>5062.925487</td>\n",
       "    </tr>\n",
       "    <tr>\n",
       "      <th>1972-06-01</th>\n",
       "      <td>5312.0</td>\n",
       "      <td>694.0</td>\n",
       "      <td>438.0</td>\n",
       "      <td>5062.943106</td>\n",
       "    </tr>\n",
       "    <tr>\n",
       "      <th>1972-07-01</th>\n",
       "      <td>4298.0</td>\n",
       "      <td>-1014.0</td>\n",
       "      <td>-335.0</td>\n",
       "      <td>5062.951114</td>\n",
       "    </tr>\n",
       "    <tr>\n",
       "      <th>1972-08-01</th>\n",
       "      <td>1413.0</td>\n",
       "      <td>-2885.0</td>\n",
       "      <td>-246.0</td>\n",
       "      <td>5062.954753</td>\n",
       "    </tr>\n",
       "    <tr>\n",
       "      <th>1972-09-01</th>\n",
       "      <td>5877.0</td>\n",
       "      <td>4464.0</td>\n",
       "      <td>-74.0</td>\n",
       "      <td>5062.956407</td>\n",
       "    </tr>\n",
       "  </tbody>\n",
       "</table>\n",
       "</div>"
      ],
      "text/plain": [
       "              Sales  1st Diff  Seasonal Diff  Forecast_ARIMA\n",
       "Month                                                       \n",
       "1971-07-01   4633.0    -241.0          416.0     4977.077431\n",
       "1971-08-01   1659.0   -2974.0          -79.0     5023.925600\n",
       "1971-09-01   5951.0    4292.0          730.0     5045.217855\n",
       "1971-10-01   6981.0    1030.0          557.0     5054.895077\n",
       "1971-11-01   9851.0    2870.0            9.0     5059.293326\n",
       "1971-12-01  12670.0    2819.0         -406.0     5061.292307\n",
       "1972-01-01   4348.0   -8322.0          414.0     5062.200834\n",
       "1972-02-01   3564.0    -784.0          402.0     5062.613755\n",
       "1972-03-01   4577.0    1013.0          291.0     5062.801425\n",
       "1972-04-01   4788.0     211.0          112.0     5062.886721\n",
       "1972-05-01   4618.0    -170.0         -392.0     5062.925487\n",
       "1972-06-01   5312.0     694.0          438.0     5062.943106\n",
       "1972-07-01   4298.0   -1014.0         -335.0     5062.951114\n",
       "1972-08-01   1413.0   -2885.0         -246.0     5062.954753\n",
       "1972-09-01   5877.0    4464.0          -74.0     5062.956407"
      ]
     },
     "execution_count": 277,
     "metadata": {},
     "output_type": "execute_result"
    }
   ],
   "source": [
    "data.iloc[90:105,:]"
   ]
  },
  {
   "cell_type": "markdown",
   "id": "0a734b0b",
   "metadata": {},
   "source": [
    "### SARIMAX"
   ]
  },
  {
   "cell_type": "code",
   "execution_count": 278,
   "id": "c6042757",
   "metadata": {},
   "outputs": [],
   "source": [
    "# Importing SARIMAX library\n",
    "\n",
    "from statsmodels.tsa.statespace.sarimax import SARIMAX"
   ]
  },
  {
   "cell_type": "code",
   "execution_count": 279,
   "id": "31f3d519",
   "metadata": {},
   "outputs": [],
   "source": [
    "model_sarimax = SARIMAX(data['Sales'], order=(1,1,1), seasonal_order=(1,1,1,12))"
   ]
  },
  {
   "cell_type": "code",
   "execution_count": 280,
   "id": "ecef41ef",
   "metadata": {},
   "outputs": [],
   "source": [
    "result = model_sarimax.fit()"
   ]
  },
  {
   "cell_type": "code",
   "execution_count": 281,
   "id": "c2ae2c36",
   "metadata": {},
   "outputs": [],
   "source": [
    "# Predictions\n",
    "\n",
    "data['Forecast_SARIMAX']=result.predict(start=80, end=105, dynamic=True)"
   ]
  },
  {
   "cell_type": "code",
   "execution_count": 282,
   "id": "6f1be35e",
   "metadata": {},
   "outputs": [
    {
     "data": {
      "text/plain": [
       "<AxesSubplot:xlabel='Month'>"
      ]
     },
     "execution_count": 282,
     "metadata": {},
     "output_type": "execute_result"
    },
    {
     "data": {
      "image/png": "[encoded data removed]",
      "text/plain": [
       "<Figure size 864x576 with 1 Axes>"
      ]
     },
     "metadata": {
      "needs_background": "light"
     },
     "output_type": "display_data"
    }
   ],
   "source": [
    "# Plotting\n",
    "\n",
    "data[['Sales','Forecast_SARIMAX']].plot(figsize=(12,8))"
   ]
  },
  {
   "cell_type": "code",
   "execution_count": 283,
   "id": "4cf3ae1f",
   "metadata": {},
   "outputs": [
    {
     "data": {
      "text/html": [
       "<div>\n",
       "<style scoped>\n",
       "    .dataframe tbody tr th:only-of-type {\n",
       "        vertical-align: middle;\n",
       "    }\n",
       "\n",
       "    .dataframe tbody tr th {\n",
       "        vertical-align: top;\n",
       "    }\n",
       "\n",
       "    .dataframe thead th {\n",
       "        text-align: right;\n",
       "    }\n",
       "</style>\n",
       "<table border=\"1\" class=\"dataframe\">\n",
       "  <thead>\n",
       "    <tr style=\"text-align: right;\">\n",
       "      <th></th>\n",
       "      <th>Sales</th>\n",
       "      <th>1st Diff</th>\n",
       "      <th>Seasonal Diff</th>\n",
       "      <th>Forecast_ARIMA</th>\n",
       "      <th>Forecast_SARIMAX</th>\n",
       "    </tr>\n",
       "    <tr>\n",
       "      <th>Month</th>\n",
       "      <th></th>\n",
       "      <th></th>\n",
       "      <th></th>\n",
       "      <th></th>\n",
       "      <th></th>\n",
       "    </tr>\n",
       "  </thead>\n",
       "  <tbody>\n",
       "    <tr>\n",
       "      <th>1970-09-01</th>\n",
       "      <td>5221.0</td>\n",
       "      <td>3483.0</td>\n",
       "      <td>-1.0</td>\n",
       "      <td>NaN</td>\n",
       "      <td>5257.752639</td>\n",
       "    </tr>\n",
       "    <tr>\n",
       "      <th>1970-10-01</th>\n",
       "      <td>6424.0</td>\n",
       "      <td>1203.0</td>\n",
       "      <td>-448.0</td>\n",
       "      <td>NaN</td>\n",
       "      <td>7069.315629</td>\n",
       "    </tr>\n",
       "    <tr>\n",
       "      <th>1970-11-01</th>\n",
       "      <td>9842.0</td>\n",
       "      <td>3418.0</td>\n",
       "      <td>-961.0</td>\n",
       "      <td>NaN</td>\n",
       "      <td>10798.739024</td>\n",
       "    </tr>\n",
       "    <tr>\n",
       "      <th>1970-12-01</th>\n",
       "      <td>13076.0</td>\n",
       "      <td>3234.0</td>\n",
       "      <td>-840.0</td>\n",
       "      <td>NaN</td>\n",
       "      <td>13518.907924</td>\n",
       "    </tr>\n",
       "    <tr>\n",
       "      <th>1971-01-01</th>\n",
       "      <td>3934.0</td>\n",
       "      <td>-9142.0</td>\n",
       "      <td>1295.0</td>\n",
       "      <td>NaN</td>\n",
       "      <td>3100.542155</td>\n",
       "    </tr>\n",
       "    <tr>\n",
       "      <th>1971-02-01</th>\n",
       "      <td>3162.0</td>\n",
       "      <td>-772.0</td>\n",
       "      <td>263.0</td>\n",
       "      <td>NaN</td>\n",
       "      <td>3213.454040</td>\n",
       "    </tr>\n",
       "    <tr>\n",
       "      <th>1971-03-01</th>\n",
       "      <td>4286.0</td>\n",
       "      <td>1124.0</td>\n",
       "      <td>916.0</td>\n",
       "      <td>NaN</td>\n",
       "      <td>3745.238472</td>\n",
       "    </tr>\n",
       "    <tr>\n",
       "      <th>1971-04-01</th>\n",
       "      <td>4676.0</td>\n",
       "      <td>390.0</td>\n",
       "      <td>936.0</td>\n",
       "      <td>NaN</td>\n",
       "      <td>3993.580497</td>\n",
       "    </tr>\n",
       "    <tr>\n",
       "      <th>1971-05-01</th>\n",
       "      <td>5010.0</td>\n",
       "      <td>334.0</td>\n",
       "      <td>2083.0</td>\n",
       "      <td>NaN</td>\n",
       "      <td>3496.565336</td>\n",
       "    </tr>\n",
       "    <tr>\n",
       "      <th>1971-06-01</th>\n",
       "      <td>4874.0</td>\n",
       "      <td>-136.0</td>\n",
       "      <td>888.0</td>\n",
       "      <td>NaN</td>\n",
       "      <td>4250.763722</td>\n",
       "    </tr>\n",
       "    <tr>\n",
       "      <th>1971-07-01</th>\n",
       "      <td>4633.0</td>\n",
       "      <td>-241.0</td>\n",
       "      <td>416.0</td>\n",
       "      <td>4977.077431</td>\n",
       "      <td>4171.932798</td>\n",
       "    </tr>\n",
       "    <tr>\n",
       "      <th>1971-08-01</th>\n",
       "      <td>1659.0</td>\n",
       "      <td>-2974.0</td>\n",
       "      <td>-79.0</td>\n",
       "      <td>5023.925600</td>\n",
       "      <td>1885.187340</td>\n",
       "    </tr>\n",
       "    <tr>\n",
       "      <th>1971-09-01</th>\n",
       "      <td>5951.0</td>\n",
       "      <td>4292.0</td>\n",
       "      <td>730.0</td>\n",
       "      <td>5045.217855</td>\n",
       "      <td>5384.724621</td>\n",
       "    </tr>\n",
       "    <tr>\n",
       "      <th>1971-10-01</th>\n",
       "      <td>6981.0</td>\n",
       "      <td>1030.0</td>\n",
       "      <td>557.0</td>\n",
       "      <td>5054.895077</td>\n",
       "      <td>7132.291723</td>\n",
       "    </tr>\n",
       "    <tr>\n",
       "      <th>1971-11-01</th>\n",
       "      <td>9851.0</td>\n",
       "      <td>2870.0</td>\n",
       "      <td>9.0</td>\n",
       "      <td>5059.293326</td>\n",
       "      <td>10955.931713</td>\n",
       "    </tr>\n",
       "    <tr>\n",
       "      <th>1971-12-01</th>\n",
       "      <td>12670.0</td>\n",
       "      <td>2819.0</td>\n",
       "      <td>-406.0</td>\n",
       "      <td>5061.292307</td>\n",
       "      <td>13855.324000</td>\n",
       "    </tr>\n",
       "    <tr>\n",
       "      <th>1972-01-01</th>\n",
       "      <td>4348.0</td>\n",
       "      <td>-8322.0</td>\n",
       "      <td>414.0</td>\n",
       "      <td>5062.200834</td>\n",
       "      <td>3047.024875</td>\n",
       "    </tr>\n",
       "    <tr>\n",
       "      <th>1972-02-01</th>\n",
       "      <td>3564.0</td>\n",
       "      <td>-784.0</td>\n",
       "      <td>402.0</td>\n",
       "      <td>5062.613755</td>\n",
       "      <td>3226.826232</td>\n",
       "    </tr>\n",
       "    <tr>\n",
       "      <th>1972-03-01</th>\n",
       "      <td>4577.0</td>\n",
       "      <td>1013.0</td>\n",
       "      <td>291.0</td>\n",
       "      <td>5062.801425</td>\n",
       "      <td>3731.007942</td>\n",
       "    </tr>\n",
       "    <tr>\n",
       "      <th>1972-04-01</th>\n",
       "      <td>4788.0</td>\n",
       "      <td>211.0</td>\n",
       "      <td>112.0</td>\n",
       "      <td>5062.886721</td>\n",
       "      <td>4034.632157</td>\n",
       "    </tr>\n",
       "    <tr>\n",
       "      <th>1972-05-01</th>\n",
       "      <td>4618.0</td>\n",
       "      <td>-170.0</td>\n",
       "      <td>-392.0</td>\n",
       "      <td>5062.925487</td>\n",
       "      <td>3394.044158</td>\n",
       "    </tr>\n",
       "    <tr>\n",
       "      <th>1972-06-01</th>\n",
       "      <td>5312.0</td>\n",
       "      <td>694.0</td>\n",
       "      <td>438.0</td>\n",
       "      <td>5062.943106</td>\n",
       "      <td>4286.735642</td>\n",
       "    </tr>\n",
       "    <tr>\n",
       "      <th>1972-07-01</th>\n",
       "      <td>4298.0</td>\n",
       "      <td>-1014.0</td>\n",
       "      <td>-335.0</td>\n",
       "      <td>5062.951114</td>\n",
       "      <td>4348.682734</td>\n",
       "    </tr>\n",
       "    <tr>\n",
       "      <th>1972-08-01</th>\n",
       "      <td>1413.0</td>\n",
       "      <td>-2885.0</td>\n",
       "      <td>-246.0</td>\n",
       "      <td>5062.954753</td>\n",
       "      <td>1974.582580</td>\n",
       "    </tr>\n",
       "    <tr>\n",
       "      <th>1972-09-01</th>\n",
       "      <td>5877.0</td>\n",
       "      <td>4464.0</td>\n",
       "      <td>-74.0</td>\n",
       "      <td>5062.956407</td>\n",
       "      <td>5483.305124</td>\n",
       "    </tr>\n",
       "  </tbody>\n",
       "</table>\n",
       "</div>"
      ],
      "text/plain": [
       "              Sales  1st Diff  Seasonal Diff  Forecast_ARIMA  Forecast_SARIMAX\n",
       "Month                                                                         \n",
       "1970-09-01   5221.0    3483.0           -1.0             NaN       5257.752639\n",
       "1970-10-01   6424.0    1203.0         -448.0             NaN       7069.315629\n",
       "1970-11-01   9842.0    3418.0         -961.0             NaN      10798.739024\n",
       "1970-12-01  13076.0    3234.0         -840.0             NaN      13518.907924\n",
       "1971-01-01   3934.0   -9142.0         1295.0             NaN       3100.542155\n",
       "1971-02-01   3162.0    -772.0          263.0             NaN       3213.454040\n",
       "1971-03-01   4286.0    1124.0          916.0             NaN       3745.238472\n",
       "1971-04-01   4676.0     390.0          936.0             NaN       3993.580497\n",
       "1971-05-01   5010.0     334.0         2083.0             NaN       3496.565336\n",
       "1971-06-01   4874.0    -136.0          888.0             NaN       4250.763722\n",
       "1971-07-01   4633.0    -241.0          416.0     4977.077431       4171.932798\n",
       "1971-08-01   1659.0   -2974.0          -79.0     5023.925600       1885.187340\n",
       "1971-09-01   5951.0    4292.0          730.0     5045.217855       5384.724621\n",
       "1971-10-01   6981.0    1030.0          557.0     5054.895077       7132.291723\n",
       "1971-11-01   9851.0    2870.0            9.0     5059.293326      10955.931713\n",
       "1971-12-01  12670.0    2819.0         -406.0     5061.292307      13855.324000\n",
       "1972-01-01   4348.0   -8322.0          414.0     5062.200834       3047.024875\n",
       "1972-02-01   3564.0    -784.0          402.0     5062.613755       3226.826232\n",
       "1972-03-01   4577.0    1013.0          291.0     5062.801425       3731.007942\n",
       "1972-04-01   4788.0     211.0          112.0     5062.886721       4034.632157\n",
       "1972-05-01   4618.0    -170.0         -392.0     5062.925487       3394.044158\n",
       "1972-06-01   5312.0     694.0          438.0     5062.943106       4286.735642\n",
       "1972-07-01   4298.0   -1014.0         -335.0     5062.951114       4348.682734\n",
       "1972-08-01   1413.0   -2885.0         -246.0     5062.954753       1974.582580\n",
       "1972-09-01   5877.0    4464.0          -74.0     5062.956407       5483.305124"
      ]
     },
     "execution_count": 283,
     "metadata": {},
     "output_type": "execute_result"
    }
   ],
   "source": [
    "data.iloc[80:105,:]"
   ]
  },
  {
   "cell_type": "markdown",
   "id": "fcc3742e",
   "metadata": {},
   "source": [
    "### Forecasting"
   ]
  },
  {
   "cell_type": "code",
   "execution_count": 284,
   "id": "c2421d30",
   "metadata": {},
   "outputs": [],
   "source": [
    "from pandas.tseries.offsets import DateOffset"
   ]
  },
  {
   "cell_type": "code",
   "execution_count": 285,
   "id": "1a8cf234",
   "metadata": {},
   "outputs": [],
   "source": [
    "# Creating additional data\n",
    "\n",
    "Future_dates = [data.index[-1]+DateOffset(months=x) for x in range(0,24)]"
   ]
  },
  {
   "cell_type": "code",
   "execution_count": 286,
   "id": "d230cd3c",
   "metadata": {},
   "outputs": [
    {
     "data": {
      "text/plain": [
       "[Timestamp('1972-09-01 00:00:00'),\n",
       " Timestamp('1972-10-01 00:00:00'),\n",
       " Timestamp('1972-11-01 00:00:00'),\n",
       " Timestamp('1972-12-01 00:00:00'),\n",
       " Timestamp('1973-01-01 00:00:00'),\n",
       " Timestamp('1973-02-01 00:00:00'),\n",
       " Timestamp('1973-03-01 00:00:00'),\n",
       " Timestamp('1973-04-01 00:00:00'),\n",
       " Timestamp('1973-05-01 00:00:00'),\n",
       " Timestamp('1973-06-01 00:00:00'),\n",
       " Timestamp('1973-07-01 00:00:00'),\n",
       " Timestamp('1973-08-01 00:00:00'),\n",
       " Timestamp('1973-09-01 00:00:00'),\n",
       " Timestamp('1973-10-01 00:00:00'),\n",
       " Timestamp('1973-11-01 00:00:00'),\n",
       " Timestamp('1973-12-01 00:00:00'),\n",
       " Timestamp('1974-01-01 00:00:00'),\n",
       " Timestamp('1974-02-01 00:00:00'),\n",
       " Timestamp('1974-03-01 00:00:00'),\n",
       " Timestamp('1974-04-01 00:00:00'),\n",
       " Timestamp('1974-05-01 00:00:00'),\n",
       " Timestamp('1974-06-01 00:00:00'),\n",
       " Timestamp('1974-07-01 00:00:00'),\n",
       " Timestamp('1974-08-01 00:00:00')]"
      ]
     },
     "execution_count": 286,
     "metadata": {},
     "output_type": "execute_result"
    }
   ],
   "source": [
    "Future_dates"
   ]
  },
  {
   "cell_type": "code",
   "execution_count": 287,
   "id": "2248c26a",
   "metadata": {},
   "outputs": [],
   "source": [
    "new_data=pd.DataFrame(index=Future_dates[1:], columns=data.columns)"
   ]
  },
  {
   "cell_type": "code",
   "execution_count": 288,
   "id": "5fcdee36",
   "metadata": {},
   "outputs": [
    {
     "data": {
      "text/html": [
       "<div>\n",
       "<style scoped>\n",
       "    .dataframe tbody tr th:only-of-type {\n",
       "        vertical-align: middle;\n",
       "    }\n",
       "\n",
       "    .dataframe tbody tr th {\n",
       "        vertical-align: top;\n",
       "    }\n",
       "\n",
       "    .dataframe thead th {\n",
       "        text-align: right;\n",
       "    }\n",
       "</style>\n",
       "<table border=\"1\" class=\"dataframe\">\n",
       "  <thead>\n",
       "    <tr style=\"text-align: right;\">\n",
       "      <th></th>\n",
       "      <th>Sales</th>\n",
       "      <th>1st Diff</th>\n",
       "      <th>Seasonal Diff</th>\n",
       "      <th>Forecast_ARIMA</th>\n",
       "      <th>Forecast_SARIMAX</th>\n",
       "    </tr>\n",
       "  </thead>\n",
       "  <tbody>\n",
       "    <tr>\n",
       "      <th>1972-10-01</th>\n",
       "      <td>NaN</td>\n",
       "      <td>NaN</td>\n",
       "      <td>NaN</td>\n",
       "      <td>NaN</td>\n",
       "      <td>NaN</td>\n",
       "    </tr>\n",
       "    <tr>\n",
       "      <th>1972-11-01</th>\n",
       "      <td>NaN</td>\n",
       "      <td>NaN</td>\n",
       "      <td>NaN</td>\n",
       "      <td>NaN</td>\n",
       "      <td>NaN</td>\n",
       "    </tr>\n",
       "    <tr>\n",
       "      <th>1972-12-01</th>\n",
       "      <td>NaN</td>\n",
       "      <td>NaN</td>\n",
       "      <td>NaN</td>\n",
       "      <td>NaN</td>\n",
       "      <td>NaN</td>\n",
       "    </tr>\n",
       "    <tr>\n",
       "      <th>1973-01-01</th>\n",
       "      <td>NaN</td>\n",
       "      <td>NaN</td>\n",
       "      <td>NaN</td>\n",
       "      <td>NaN</td>\n",
       "      <td>NaN</td>\n",
       "    </tr>\n",
       "    <tr>\n",
       "      <th>1973-02-01</th>\n",
       "      <td>NaN</td>\n",
       "      <td>NaN</td>\n",
       "      <td>NaN</td>\n",
       "      <td>NaN</td>\n",
       "      <td>NaN</td>\n",
       "    </tr>\n",
       "    <tr>\n",
       "      <th>1973-03-01</th>\n",
       "      <td>NaN</td>\n",
       "      <td>NaN</td>\n",
       "      <td>NaN</td>\n",
       "      <td>NaN</td>\n",
       "      <td>NaN</td>\n",
       "    </tr>\n",
       "    <tr>\n",
       "      <th>1973-04-01</th>\n",
       "      <td>NaN</td>\n",
       "      <td>NaN</td>\n",
       "      <td>NaN</td>\n",
       "      <td>NaN</td>\n",
       "      <td>NaN</td>\n",
       "    </tr>\n",
       "    <tr>\n",
       "      <th>1973-05-01</th>\n",
       "      <td>NaN</td>\n",
       "      <td>NaN</td>\n",
       "      <td>NaN</td>\n",
       "      <td>NaN</td>\n",
       "      <td>NaN</td>\n",
       "    </tr>\n",
       "    <tr>\n",
       "      <th>1973-06-01</th>\n",
       "      <td>NaN</td>\n",
       "      <td>NaN</td>\n",
       "      <td>NaN</td>\n",
       "      <td>NaN</td>\n",
       "      <td>NaN</td>\n",
       "    </tr>\n",
       "    <tr>\n",
       "      <th>1973-07-01</th>\n",
       "      <td>NaN</td>\n",
       "      <td>NaN</td>\n",
       "      <td>NaN</td>\n",
       "      <td>NaN</td>\n",
       "      <td>NaN</td>\n",
       "    </tr>\n",
       "    <tr>\n",
       "      <th>1973-08-01</th>\n",
       "      <td>NaN</td>\n",
       "      <td>NaN</td>\n",
       "      <td>NaN</td>\n",
       "      <td>NaN</td>\n",
       "      <td>NaN</td>\n",
       "    </tr>\n",
       "    <tr>\n",
       "      <th>1973-09-01</th>\n",
       "      <td>NaN</td>\n",
       "      <td>NaN</td>\n",
       "      <td>NaN</td>\n",
       "      <td>NaN</td>\n",
       "      <td>NaN</td>\n",
       "    </tr>\n",
       "    <tr>\n",
       "      <th>1973-10-01</th>\n",
       "      <td>NaN</td>\n",
       "      <td>NaN</td>\n",
       "      <td>NaN</td>\n",
       "      <td>NaN</td>\n",
       "      <td>NaN</td>\n",
       "    </tr>\n",
       "    <tr>\n",
       "      <th>1973-11-01</th>\n",
       "      <td>NaN</td>\n",
       "      <td>NaN</td>\n",
       "      <td>NaN</td>\n",
       "      <td>NaN</td>\n",
       "      <td>NaN</td>\n",
       "    </tr>\n",
       "    <tr>\n",
       "      <th>1973-12-01</th>\n",
       "      <td>NaN</td>\n",
       "      <td>NaN</td>\n",
       "      <td>NaN</td>\n",
       "      <td>NaN</td>\n",
       "      <td>NaN</td>\n",
       "    </tr>\n",
       "    <tr>\n",
       "      <th>1974-01-01</th>\n",
       "      <td>NaN</td>\n",
       "      <td>NaN</td>\n",
       "      <td>NaN</td>\n",
       "      <td>NaN</td>\n",
       "      <td>NaN</td>\n",
       "    </tr>\n",
       "    <tr>\n",
       "      <th>1974-02-01</th>\n",
       "      <td>NaN</td>\n",
       "      <td>NaN</td>\n",
       "      <td>NaN</td>\n",
       "      <td>NaN</td>\n",
       "      <td>NaN</td>\n",
       "    </tr>\n",
       "    <tr>\n",
       "      <th>1974-03-01</th>\n",
       "      <td>NaN</td>\n",
       "      <td>NaN</td>\n",
       "      <td>NaN</td>\n",
       "      <td>NaN</td>\n",
       "      <td>NaN</td>\n",
       "    </tr>\n",
       "    <tr>\n",
       "      <th>1974-04-01</th>\n",
       "      <td>NaN</td>\n",
       "      <td>NaN</td>\n",
       "      <td>NaN</td>\n",
       "      <td>NaN</td>\n",
       "      <td>NaN</td>\n",
       "    </tr>\n",
       "    <tr>\n",
       "      <th>1974-05-01</th>\n",
       "      <td>NaN</td>\n",
       "      <td>NaN</td>\n",
       "      <td>NaN</td>\n",
       "      <td>NaN</td>\n",
       "      <td>NaN</td>\n",
       "    </tr>\n",
       "    <tr>\n",
       "      <th>1974-06-01</th>\n",
       "      <td>NaN</td>\n",
       "      <td>NaN</td>\n",
       "      <td>NaN</td>\n",
       "      <td>NaN</td>\n",
       "      <td>NaN</td>\n",
       "    </tr>\n",
       "    <tr>\n",
       "      <th>1974-07-01</th>\n",
       "      <td>NaN</td>\n",
       "      <td>NaN</td>\n",
       "      <td>NaN</td>\n",
       "      <td>NaN</td>\n",
       "      <td>NaN</td>\n",
       "    </tr>\n",
       "    <tr>\n",
       "      <th>1974-08-01</th>\n",
       "      <td>NaN</td>\n",
       "      <td>NaN</td>\n",
       "      <td>NaN</td>\n",
       "      <td>NaN</td>\n",
       "      <td>NaN</td>\n",
       "    </tr>\n",
       "  </tbody>\n",
       "</table>\n",
       "</div>"
      ],
      "text/plain": [
       "           Sales 1st Diff Seasonal Diff Forecast_ARIMA Forecast_SARIMAX\n",
       "1972-10-01   NaN      NaN           NaN            NaN              NaN\n",
       "1972-11-01   NaN      NaN           NaN            NaN              NaN\n",
       "1972-12-01   NaN      NaN           NaN            NaN              NaN\n",
       "1973-01-01   NaN      NaN           NaN            NaN              NaN\n",
       "1973-02-01   NaN      NaN           NaN            NaN              NaN\n",
       "1973-03-01   NaN      NaN           NaN            NaN              NaN\n",
       "1973-04-01   NaN      NaN           NaN            NaN              NaN\n",
       "1973-05-01   NaN      NaN           NaN            NaN              NaN\n",
       "1973-06-01   NaN      NaN           NaN            NaN              NaN\n",
       "1973-07-01   NaN      NaN           NaN            NaN              NaN\n",
       "1973-08-01   NaN      NaN           NaN            NaN              NaN\n",
       "1973-09-01   NaN      NaN           NaN            NaN              NaN\n",
       "1973-10-01   NaN      NaN           NaN            NaN              NaN\n",
       "1973-11-01   NaN      NaN           NaN            NaN              NaN\n",
       "1973-12-01   NaN      NaN           NaN            NaN              NaN\n",
       "1974-01-01   NaN      NaN           NaN            NaN              NaN\n",
       "1974-02-01   NaN      NaN           NaN            NaN              NaN\n",
       "1974-03-01   NaN      NaN           NaN            NaN              NaN\n",
       "1974-04-01   NaN      NaN           NaN            NaN              NaN\n",
       "1974-05-01   NaN      NaN           NaN            NaN              NaN\n",
       "1974-06-01   NaN      NaN           NaN            NaN              NaN\n",
       "1974-07-01   NaN      NaN           NaN            NaN              NaN\n",
       "1974-08-01   NaN      NaN           NaN            NaN              NaN"
      ]
     },
     "execution_count": 288,
     "metadata": {},
     "output_type": "execute_result"
    }
   ],
   "source": [
    "new_data"
   ]
  },
  {
   "cell_type": "code",
   "execution_count": 289,
   "id": "64d4192a",
   "metadata": {},
   "outputs": [],
   "source": [
    "#Concatinating\n",
    "fin_data = pd.concat([data,new_data])"
   ]
  },
  {
   "cell_type": "code",
   "execution_count": 290,
   "id": "6d1f998c",
   "metadata": {},
   "outputs": [
    {
     "data": {
      "text/plain": [
       "(128, 5)"
      ]
     },
     "execution_count": 290,
     "metadata": {},
     "output_type": "execute_result"
    }
   ],
   "source": [
    "fin_data.shape"
   ]
  },
  {
   "cell_type": "code",
   "execution_count": 291,
   "id": "96e9c15b",
   "metadata": {},
   "outputs": [],
   "source": [
    "model_sarimax = SARIMAX(fin_data['Sales'], order=(1,1,1), seasonal_order=(1,1,1,12))"
   ]
  },
  {
   "cell_type": "code",
   "execution_count": 292,
   "id": "a1c95360",
   "metadata": {},
   "outputs": [],
   "source": [
    "result=model_sarimax.fit()"
   ]
  },
  {
   "cell_type": "code",
   "execution_count": 293,
   "id": "d21823e4",
   "metadata": {},
   "outputs": [],
   "source": [
    "#Predictions\n",
    "fin_data['Forecast_SARIMAX'] = result.predict(start=103, end=128, dynamic=True)"
   ]
  },
  {
   "cell_type": "code",
   "execution_count": 294,
   "id": "85910bde",
   "metadata": {},
   "outputs": [
    {
     "data": {
      "text/plain": [
       "<AxesSubplot:>"
      ]
     },
     "execution_count": 294,
     "metadata": {},
     "output_type": "execute_result"
    },
    {
     "data": {
      "image/png": "[encoded data removed]",
      "text/plain": [
       "<Figure size 864x576 with 1 Axes>"
      ]
     },
     "metadata": {
      "needs_background": "light"
     },
     "output_type": "display_data"
    }
   ],
   "source": [
    "#Plotting\n",
    "fin_data[['Sales','Forecast_SARIMAX']].plot(figsize=(12,8))"
   ]
  },
  {
   "cell_type": "code",
   "execution_count": 295,
   "id": "ae97a9af",
   "metadata": {},
   "outputs": [
    {
     "data": {
      "text/html": [
       "<div>\n",
       "<style scoped>\n",
       "    .dataframe tbody tr th:only-of-type {\n",
       "        vertical-align: middle;\n",
       "    }\n",
       "\n",
       "    .dataframe tbody tr th {\n",
       "        vertical-align: top;\n",
       "    }\n",
       "\n",
       "    .dataframe thead th {\n",
       "        text-align: right;\n",
       "    }\n",
       "</style>\n",
       "<table border=\"1\" class=\"dataframe\">\n",
       "  <thead>\n",
       "    <tr style=\"text-align: right;\">\n",
       "      <th></th>\n",
       "      <th>Sales</th>\n",
       "      <th>1st Diff</th>\n",
       "      <th>Seasonal Diff</th>\n",
       "      <th>Forecast_ARIMA</th>\n",
       "      <th>Forecast_SARIMAX</th>\n",
       "    </tr>\n",
       "  </thead>\n",
       "  <tbody>\n",
       "    <tr>\n",
       "      <th>1972-03-01</th>\n",
       "      <td>4577.0</td>\n",
       "      <td>1013.0</td>\n",
       "      <td>291.0</td>\n",
       "      <td>5062.801425</td>\n",
       "      <td>NaN</td>\n",
       "    </tr>\n",
       "    <tr>\n",
       "      <th>1972-04-01</th>\n",
       "      <td>4788.0</td>\n",
       "      <td>211.0</td>\n",
       "      <td>112.0</td>\n",
       "      <td>5062.886721</td>\n",
       "      <td>NaN</td>\n",
       "    </tr>\n",
       "    <tr>\n",
       "      <th>1972-05-01</th>\n",
       "      <td>4618.0</td>\n",
       "      <td>-170.0</td>\n",
       "      <td>-392.0</td>\n",
       "      <td>5062.925487</td>\n",
       "      <td>NaN</td>\n",
       "    </tr>\n",
       "    <tr>\n",
       "      <th>1972-06-01</th>\n",
       "      <td>5312.0</td>\n",
       "      <td>694.0</td>\n",
       "      <td>438.0</td>\n",
       "      <td>5062.943106</td>\n",
       "      <td>NaN</td>\n",
       "    </tr>\n",
       "    <tr>\n",
       "      <th>1972-07-01</th>\n",
       "      <td>4298.0</td>\n",
       "      <td>-1014.0</td>\n",
       "      <td>-335.0</td>\n",
       "      <td>5062.951114</td>\n",
       "      <td>NaN</td>\n",
       "    </tr>\n",
       "    <tr>\n",
       "      <th>1972-08-01</th>\n",
       "      <td>1413.0</td>\n",
       "      <td>-2885.0</td>\n",
       "      <td>-246.0</td>\n",
       "      <td>5062.954753</td>\n",
       "      <td>1761.633422</td>\n",
       "    </tr>\n",
       "    <tr>\n",
       "      <th>1972-09-01</th>\n",
       "      <td>5877.0</td>\n",
       "      <td>4464.0</td>\n",
       "      <td>-74.0</td>\n",
       "      <td>5062.956407</td>\n",
       "      <td>5993.617703</td>\n",
       "    </tr>\n",
       "    <tr>\n",
       "      <th>1972-10-01</th>\n",
       "      <td>NaN</td>\n",
       "      <td>NaN</td>\n",
       "      <td>NaN</td>\n",
       "      <td>NaN</td>\n",
       "      <td>7073.963050</td>\n",
       "    </tr>\n",
       "    <tr>\n",
       "      <th>1972-11-01</th>\n",
       "      <td>NaN</td>\n",
       "      <td>NaN</td>\n",
       "      <td>NaN</td>\n",
       "      <td>NaN</td>\n",
       "      <td>10027.928564</td>\n",
       "    </tr>\n",
       "    <tr>\n",
       "      <th>1972-12-01</th>\n",
       "      <td>NaN</td>\n",
       "      <td>NaN</td>\n",
       "      <td>NaN</td>\n",
       "      <td>NaN</td>\n",
       "      <td>12918.586583</td>\n",
       "    </tr>\n",
       "    <tr>\n",
       "      <th>1973-01-01</th>\n",
       "      <td>NaN</td>\n",
       "      <td>NaN</td>\n",
       "      <td>NaN</td>\n",
       "      <td>NaN</td>\n",
       "      <td>4586.527184</td>\n",
       "    </tr>\n",
       "    <tr>\n",
       "      <th>1973-02-01</th>\n",
       "      <td>NaN</td>\n",
       "      <td>NaN</td>\n",
       "      <td>NaN</td>\n",
       "      <td>NaN</td>\n",
       "      <td>3743.440378</td>\n",
       "    </tr>\n",
       "    <tr>\n",
       "      <th>1973-03-01</th>\n",
       "      <td>NaN</td>\n",
       "      <td>NaN</td>\n",
       "      <td>NaN</td>\n",
       "      <td>NaN</td>\n",
       "      <td>4816.873557</td>\n",
       "    </tr>\n",
       "    <tr>\n",
       "      <th>1973-04-01</th>\n",
       "      <td>NaN</td>\n",
       "      <td>NaN</td>\n",
       "      <td>NaN</td>\n",
       "      <td>NaN</td>\n",
       "      <td>5059.092312</td>\n",
       "    </tr>\n",
       "    <tr>\n",
       "      <th>1973-05-01</th>\n",
       "      <td>NaN</td>\n",
       "      <td>NaN</td>\n",
       "      <td>NaN</td>\n",
       "      <td>NaN</td>\n",
       "      <td>5072.429950</td>\n",
       "    </tr>\n",
       "    <tr>\n",
       "      <th>1973-06-01</th>\n",
       "      <td>NaN</td>\n",
       "      <td>NaN</td>\n",
       "      <td>NaN</td>\n",
       "      <td>NaN</td>\n",
       "      <td>5513.044093</td>\n",
       "    </tr>\n",
       "    <tr>\n",
       "      <th>1973-07-01</th>\n",
       "      <td>NaN</td>\n",
       "      <td>NaN</td>\n",
       "      <td>NaN</td>\n",
       "      <td>NaN</td>\n",
       "      <td>4618.098148</td>\n",
       "    </tr>\n",
       "    <tr>\n",
       "      <th>1973-08-01</th>\n",
       "      <td>NaN</td>\n",
       "      <td>NaN</td>\n",
       "      <td>NaN</td>\n",
       "      <td>NaN</td>\n",
       "      <td>1976.241064</td>\n",
       "    </tr>\n",
       "    <tr>\n",
       "      <th>1973-09-01</th>\n",
       "      <td>NaN</td>\n",
       "      <td>NaN</td>\n",
       "      <td>NaN</td>\n",
       "      <td>NaN</td>\n",
       "      <td>6261.539574</td>\n",
       "    </tr>\n",
       "    <tr>\n",
       "      <th>1973-10-01</th>\n",
       "      <td>NaN</td>\n",
       "      <td>NaN</td>\n",
       "      <td>NaN</td>\n",
       "      <td>NaN</td>\n",
       "      <td>7326.275585</td>\n",
       "    </tr>\n",
       "    <tr>\n",
       "      <th>1973-11-01</th>\n",
       "      <td>NaN</td>\n",
       "      <td>NaN</td>\n",
       "      <td>NaN</td>\n",
       "      <td>NaN</td>\n",
       "      <td>10244.116815</td>\n",
       "    </tr>\n",
       "    <tr>\n",
       "      <th>1973-12-01</th>\n",
       "      <td>NaN</td>\n",
       "      <td>NaN</td>\n",
       "      <td>NaN</td>\n",
       "      <td>NaN</td>\n",
       "      <td>13102.781126</td>\n",
       "    </tr>\n",
       "    <tr>\n",
       "      <th>1974-01-01</th>\n",
       "      <td>NaN</td>\n",
       "      <td>NaN</td>\n",
       "      <td>NaN</td>\n",
       "      <td>NaN</td>\n",
       "      <td>4775.450185</td>\n",
       "    </tr>\n",
       "    <tr>\n",
       "      <th>1974-02-01</th>\n",
       "      <td>NaN</td>\n",
       "      <td>NaN</td>\n",
       "      <td>NaN</td>\n",
       "      <td>NaN</td>\n",
       "      <td>3959.254649</td>\n",
       "    </tr>\n",
       "    <tr>\n",
       "      <th>1974-03-01</th>\n",
       "      <td>NaN</td>\n",
       "      <td>NaN</td>\n",
       "      <td>NaN</td>\n",
       "      <td>NaN</td>\n",
       "      <td>5005.241102</td>\n",
       "    </tr>\n",
       "    <tr>\n",
       "      <th>1974-04-01</th>\n",
       "      <td>NaN</td>\n",
       "      <td>NaN</td>\n",
       "      <td>NaN</td>\n",
       "      <td>NaN</td>\n",
       "      <td>5233.278425</td>\n",
       "    </tr>\n",
       "    <tr>\n",
       "      <th>1974-05-01</th>\n",
       "      <td>NaN</td>\n",
       "      <td>NaN</td>\n",
       "      <td>NaN</td>\n",
       "      <td>NaN</td>\n",
       "      <td>5163.313949</td>\n",
       "    </tr>\n",
       "    <tr>\n",
       "      <th>1974-06-01</th>\n",
       "      <td>NaN</td>\n",
       "      <td>NaN</td>\n",
       "      <td>NaN</td>\n",
       "      <td>NaN</td>\n",
       "      <td>5719.059218</td>\n",
       "    </tr>\n",
       "    <tr>\n",
       "      <th>1974-07-01</th>\n",
       "      <td>NaN</td>\n",
       "      <td>NaN</td>\n",
       "      <td>NaN</td>\n",
       "      <td>NaN</td>\n",
       "      <td>4770.018790</td>\n",
       "    </tr>\n",
       "    <tr>\n",
       "      <th>1974-08-01</th>\n",
       "      <td>NaN</td>\n",
       "      <td>NaN</td>\n",
       "      <td>NaN</td>\n",
       "      <td>NaN</td>\n",
       "      <td>2176.093418</td>\n",
       "    </tr>\n",
       "  </tbody>\n",
       "</table>\n",
       "</div>"
      ],
      "text/plain": [
       "             Sales  1st Diff  Seasonal Diff  Forecast_ARIMA  Forecast_SARIMAX\n",
       "1972-03-01  4577.0    1013.0          291.0     5062.801425               NaN\n",
       "1972-04-01  4788.0     211.0          112.0     5062.886721               NaN\n",
       "1972-05-01  4618.0    -170.0         -392.0     5062.925487               NaN\n",
       "1972-06-01  5312.0     694.0          438.0     5062.943106               NaN\n",
       "1972-07-01  4298.0   -1014.0         -335.0     5062.951114               NaN\n",
       "1972-08-01  1413.0   -2885.0         -246.0     5062.954753       1761.633422\n",
       "1972-09-01  5877.0    4464.0          -74.0     5062.956407       5993.617703\n",
       "1972-10-01     NaN       NaN            NaN             NaN       7073.963050\n",
       "1972-11-01     NaN       NaN            NaN             NaN      10027.928564\n",
       "1972-12-01     NaN       NaN            NaN             NaN      12918.586583\n",
       "1973-01-01     NaN       NaN            NaN             NaN       4586.527184\n",
       "1973-02-01     NaN       NaN            NaN             NaN       3743.440378\n",
       "1973-03-01     NaN       NaN            NaN             NaN       4816.873557\n",
       "1973-04-01     NaN       NaN            NaN             NaN       5059.092312\n",
       "1973-05-01     NaN       NaN            NaN             NaN       5072.429950\n",
       "1973-06-01     NaN       NaN            NaN             NaN       5513.044093\n",
       "1973-07-01     NaN       NaN            NaN             NaN       4618.098148\n",
       "1973-08-01     NaN       NaN            NaN             NaN       1976.241064\n",
       "1973-09-01     NaN       NaN            NaN             NaN       6261.539574\n",
       "1973-10-01     NaN       NaN            NaN             NaN       7326.275585\n",
       "1973-11-01     NaN       NaN            NaN             NaN      10244.116815\n",
       "1973-12-01     NaN       NaN            NaN             NaN      13102.781126\n",
       "1974-01-01     NaN       NaN            NaN             NaN       4775.450185\n",
       "1974-02-01     NaN       NaN            NaN             NaN       3959.254649\n",
       "1974-03-01     NaN       NaN            NaN             NaN       5005.241102\n",
       "1974-04-01     NaN       NaN            NaN             NaN       5233.278425\n",
       "1974-05-01     NaN       NaN            NaN             NaN       5163.313949\n",
       "1974-06-01     NaN       NaN            NaN             NaN       5719.059218\n",
       "1974-07-01     NaN       NaN            NaN             NaN       4770.018790\n",
       "1974-08-01     NaN       NaN            NaN             NaN       2176.093418"
      ]
     },
     "execution_count": 295,
     "metadata": {},
     "output_type": "execute_result"
    }
   ],
   "source": [
    "fin_data.tail(30)"
   ]
  },
  {
   "cell_type": "code",
   "execution_count": null,
   "id": "052970ef",
   "metadata": {},
   "outputs": [],
   "source": []
  }
 ],
 "metadata": {
  "kernelspec": {
   "display_name": "Python 3 (ipykernel)",
   "language": "python",
   "name": "python3"
  },
  "language_info": {
   "codemirror_mode": {
    "name": "ipython",
    "version": 3
   },
   "file_extension": ".py",
   "mimetype": "text/x-python",
   "name": "python",
   "nbconvert_exporter": "python",
   "pygments_lexer": "ipython3",
   "version": "3.9.7"
  }
 },
 "nbformat": 4,
 "nbformat_minor": 5
}
