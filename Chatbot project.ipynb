{
 "cells": [
  {
   "cell_type": "markdown",
   "id": "6a86d98c",
   "metadata": {},
   "source": [
    "# TECH SUPPORT CHATBOT"
   ]
  },
  {
   "cell_type": "markdown",
   "id": "4f3a7590",
   "metadata": {},
   "source": [
    "This is a ChatBot prepared for Tech Support, an all in one store for all your electronic gadget needs based in North Lakhimpur, Assam, India.\n",
    "\n",
    "About us: Laptop Repairing professional in North Lakhimpur and provides Spares sales & service of almost all brand of laptop motherboard of HP, Lenovo, Dell, Acer, Asus, Samsung, Wipro & Sony Vaio. All kind of component&chip-level repairing jobs are done here. Please contact for technical support • Display problem • Touch-pad problem • Overheating problem • Charging problem • Sound problem • Keyboard problem • Auto Shut down • Bios Password • White Display • Multiple Display • Faint Display • Body Broken • Hinges Broken"
   ]
  },
  {
   "cell_type": "code",
   "execution_count": null,
   "id": "906c0dbd",
   "metadata": {},
   "outputs": [],
   "source": [
    "doc = {'hello hi namaste namaskar good morning afternoon evening':'Hello, welcome to Tech Support, your all in one Tech Hub',\n",
    "      'what time are you open timings till when do close':'We are open for service from 9AM to 8PM everyday and on sundays from 10AM to 1:30PM and closed on National holidays',\n",
    "      'do you price cost how much for repair replace replacement service lenovo dell samsung HP acer asus wipro sony of motherboard battery screen keyboard hindges mouse printer display old laptop':'Yes, we offer repair, replacement and services for all your faulty products at very affordable price. Please visit our store for more information',\n",
    "      'do you sell brand new laptop computer CCTV printer pendrive charger keyboard inverter gaming products motherboard screen of lenovo dell samsung HP acer asus wipro sony':'We sell laptop CCTV printer of any brand you require',\n",
    "      'do you give offer warranty gaurantee on purchased repaired products':'We offer 2 months service warranty and 6 months product warranty',\n",
    "      'how to reach where is your what address location place office store':'For our address you can visit the link https://maps.google.com/?cid=8022867120812531306&entry=gps',\n",
    "      'what is the price of your services laptop spare parts repairing replacement charge how much do you':'Our price range varies from product to product. For more information visit our website https://maps.google.com/?cid=8022867120812531306&entry=gps',\n",
    "      'what is your contact number no phone telephone':'Our contact number is 8486295184',\n",
    "      'do you offer online offline consultancy services on site appointment':'Yes, we provide both online appointments and on-site services',\n",
    "      'do you offer provide give courier parcel delivery of brand new products laptop keyboard mouse charger printer CCTV deliver':'We provide delivery of brand new products as well as spare parts and repaired products to your doorstep',\n",
    "      'do you give provide offer sell deliver laptop keyboard mouse charger printer CCTV for offices office big order bulk service':'We offer sales and service for your office needs as well. We also provide bulk orders and large orders too',\n",
    "      'do you offer sell provide give customized product products laptop keyboard mouse charger printer CCTV computer gaming assembled hi-tech graphics card':'We provide customized assembled gaming laptop, computers as well',\n",
    "      'do you offer provide give installent EMI emi option facility':'Yes, we offer easy installent options for your purchases above 25000 INR'}"
   ]
  },
  {
   "cell_type": "code",
   "execution_count": null,
   "id": "2ff7aad3",
   "metadata": {},
   "outputs": [],
   "source": [
    "import math \n",
    "from collections import Counter\n",
    "from nltk import word_tokenize\n",
    "\n",
    "def text_vec(text):\n",
    "    word = word_tokenize(text.lower())\n",
    "    return Counter(word)"
   ]
  },
  {
   "cell_type": "code",
   "execution_count": null,
   "id": "66359798",
   "metadata": {},
   "outputs": [],
   "source": [
    "import numpy as np\n",
    "\n",
    "def cos_sim(text1,text2):\n",
    "    vec1 = text_vec(text1)\n",
    "    vec2 = text_vec(text2)\n",
    "    \n",
    "    com = set(vec1.keys()) & set(vec2.keys())\n",
    "    nume = sum(vec1[i]*vec2[i] for i in com)\n",
    "    \n",
    "    \n",
    "    deno1 = sum(vec1[i]**2 for i in vec1.keys())\n",
    "    deno2 = sum(vec2[i]**2 for i in vec2.keys())\n",
    "    \n",
    "    deno = math.sqrt(deno1)*math.sqrt(deno2)\n",
    "    \n",
    "    cosine = nume/deno\n",
    "    return cosine"
   ]
  },
  {
   "cell_type": "code",
   "execution_count": 14,
   "id": "81166f47",
   "metadata": {},
   "outputs": [
    {
     "name": "stdout",
     "output_type": "stream",
     "text": [
      "Hello dear User, welcome to Tech Support.\n",
      "Here we provide services as follows- \n",
      "1.Sales of brand new Laptop, computer, printer, CCTV, keyboard and other accessories \n",
      "2.Repair and replacement of laptop, motherboard, screen, display, printer, etc\n",
      "User: repair of motherboard\n",
      "Chatbot:  Yes, we offer repair, replacement and services for all your faulty products\n",
      "User: price of repair motherboard\n",
      "Chatbot:  Yes, we offer repair, replacement and services for all your faulty products\n",
      "User: how much for new lenovo laptop\n",
      "Chatbot:  Our price range varies from product to product. For more information visit our website https://maps.google.com/?cid=8022867120812531306&entry=gps\n",
      "User: do you have sell new lenovo laptop\n",
      "Chatbot:  We sell laptop CCTV printer of any brand you require\n",
      "User: where is your store\n",
      "Chatbot:  For our address you can visit the link https://maps.google.com/?cid=8022867120812531306&entry=gps\n",
      "User: phone number chahiye\n",
      "Chatbot:  Our contact number is 8486295184\n",
      "User: EMI installment service available hai\n",
      "Chatbot:  Yes, we offer easy installent options for your purchases above 25000 INR\n",
      "User: store open time\n",
      "Chatbot:  We are open for service from 9AM to 8PM everyday and on sundays from 10AM to 1:30PM and closed on National holidays\n",
      "User: address\n",
      "Chatbot:  For our address you can visit the link https://maps.google.com/?cid=8022867120812531306&entry=gps\n",
      "User: ok\n",
      "Chatbot: Thank you for visiting Tech Support, have a good day!\n"
     ]
    }
   ],
   "source": [
    "print('Hello dear User, welcome to Tech Support.\\nHere we provide services as follows- \\n1.Sales of brand new Laptop, computer, printer, CCTV, keyboard and other accessories \\n2.Repair and replacement of laptop, motherboard, screen, display, printer, etc')\n",
    "while True:\n",
    "    user = input('User: ')\n",
    "    if user.lower() not in ['ok','okay','bye','end','exit','thank you','thanks']:\n",
    "        \n",
    "        li=[]\n",
    "        for i in doc.keys():\n",
    "            simi = cos_sim(i,user)\n",
    "            li.append(simi)\n",
    "        ind = li.index(max(li))\n",
    "        ans = list(doc.values())\n",
    "        print('Chatbot: ',ans[ind])\n",
    "        \n",
    "    else:\n",
    "        print('Chatbot: Thank you for visiting Tech Support, have a good day!')\n",
    "        break"
   ]
  },
  {
   "cell_type": "code",
   "execution_count": null,
   "id": "bd78d25a",
   "metadata": {},
   "outputs": [],
   "source": []
  }
 ],
 "metadata": {
  "kernelspec": {
   "display_name": "Python 3 (ipykernel)",
   "language": "python",
   "name": "python3"
  },
  "language_info": {
   "codemirror_mode": {
    "name": "ipython",
    "version": 3
   },
   "file_extension": ".py",
   "mimetype": "text/x-python",
   "name": "python",
   "nbconvert_exporter": "python",
   "pygments_lexer": "ipython3",
   "version": "3.9.7"
  }
 },
 "nbformat": 4,
 "nbformat_minor": 5
}
