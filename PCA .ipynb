{
 "cells": [
  {
   "cell_type": "markdown",
   "id": "6766a766",
   "metadata": {},
   "source": [
    "# Importing Libraries"
   ]
  },
  {
   "cell_type": "code",
   "execution_count": 23,
   "id": "6b3de9c2",
   "metadata": {},
   "outputs": [],
   "source": [
    "import numpy as np\n",
    "import pandas as pd\n",
    "import matplotlib.pyplot as plt\n",
    "import seaborn as sns\n",
    "import warnings\n",
    "warnings.filterwarnings('ignore')"
   ]
  },
  {
   "cell_type": "code",
   "execution_count": 24,
   "id": "f27e17f6",
   "metadata": {},
   "outputs": [],
   "source": [
    "data=pd.read_csv('iris.csv')"
   ]
  },
  {
   "cell_type": "code",
   "execution_count": 25,
   "id": "30304dcf",
   "metadata": {},
   "outputs": [
    {
     "data": {
      "text/html": [
       "<div>\n",
       "<style scoped>\n",
       "    .dataframe tbody tr th:only-of-type {\n",
       "        vertical-align: middle;\n",
       "    }\n",
       "\n",
       "    .dataframe tbody tr th {\n",
       "        vertical-align: top;\n",
       "    }\n",
       "\n",
       "    .dataframe thead th {\n",
       "        text-align: right;\n",
       "    }\n",
       "</style>\n",
       "<table border=\"1\" class=\"dataframe\">\n",
       "  <thead>\n",
       "    <tr style=\"text-align: right;\">\n",
       "      <th></th>\n",
       "      <th>sepal.length</th>\n",
       "      <th>sepal.width</th>\n",
       "      <th>petal.length</th>\n",
       "      <th>petal.width</th>\n",
       "      <th>variety</th>\n",
       "    </tr>\n",
       "  </thead>\n",
       "  <tbody>\n",
       "    <tr>\n",
       "      <th>0</th>\n",
       "      <td>5.1</td>\n",
       "      <td>3.5</td>\n",
       "      <td>1.4</td>\n",
       "      <td>0.2</td>\n",
       "      <td>Setosa</td>\n",
       "    </tr>\n",
       "    <tr>\n",
       "      <th>1</th>\n",
       "      <td>4.9</td>\n",
       "      <td>3.0</td>\n",
       "      <td>1.4</td>\n",
       "      <td>0.2</td>\n",
       "      <td>Setosa</td>\n",
       "    </tr>\n",
       "    <tr>\n",
       "      <th>2</th>\n",
       "      <td>4.7</td>\n",
       "      <td>3.2</td>\n",
       "      <td>1.3</td>\n",
       "      <td>0.2</td>\n",
       "      <td>Setosa</td>\n",
       "    </tr>\n",
       "    <tr>\n",
       "      <th>3</th>\n",
       "      <td>4.6</td>\n",
       "      <td>3.1</td>\n",
       "      <td>1.5</td>\n",
       "      <td>0.2</td>\n",
       "      <td>Setosa</td>\n",
       "    </tr>\n",
       "    <tr>\n",
       "      <th>4</th>\n",
       "      <td>5.0</td>\n",
       "      <td>3.6</td>\n",
       "      <td>1.4</td>\n",
       "      <td>0.2</td>\n",
       "      <td>Setosa</td>\n",
       "    </tr>\n",
       "  </tbody>\n",
       "</table>\n",
       "</div>"
      ],
      "text/plain": [
       "   sepal.length  sepal.width  petal.length  petal.width variety\n",
       "0           5.1          3.5           1.4          0.2  Setosa\n",
       "1           4.9          3.0           1.4          0.2  Setosa\n",
       "2           4.7          3.2           1.3          0.2  Setosa\n",
       "3           4.6          3.1           1.5          0.2  Setosa\n",
       "4           5.0          3.6           1.4          0.2  Setosa"
      ]
     },
     "execution_count": 25,
     "metadata": {},
     "output_type": "execute_result"
    }
   ],
   "source": [
    "data.head()"
   ]
  },
  {
   "cell_type": "code",
   "execution_count": 26,
   "id": "ddaa824c",
   "metadata": {},
   "outputs": [
    {
     "data": {
      "text/plain": [
       "Setosa        50\n",
       "Versicolor    50\n",
       "Virginica     50\n",
       "Name: variety, dtype: int64"
      ]
     },
     "execution_count": 26,
     "metadata": {},
     "output_type": "execute_result"
    }
   ],
   "source": [
    "data['variety'].value_counts()"
   ]
  },
  {
   "cell_type": "code",
   "execution_count": 27,
   "id": "2ecda7b2",
   "metadata": {},
   "outputs": [
    {
     "data": {
      "text/plain": [
       "<AxesSubplot:>"
      ]
     },
     "execution_count": 27,
     "metadata": {},
     "output_type": "execute_result"
    },
    {
     "data": {
      "image/png": "[encoded data removed]",
      "text/plain": [
       "<Figure size 432x288 with 2 Axes>"
      ]
     },
     "metadata": {
      "needs_background": "light"
     },
     "output_type": "display_data"
    }
   ],
   "source": [
    "sns.heatmap(data.corr(), annot=True)"
   ]
  },
  {
   "cell_type": "markdown",
   "id": "6584543f",
   "metadata": {},
   "source": [
    "Step 1: Standardize the data"
   ]
  },
  {
   "cell_type": "code",
   "execution_count": 28,
   "id": "9e2a5e60",
   "metadata": {},
   "outputs": [],
   "source": [
    "x=data.drop(columns=['variety'])\n",
    "y=data['variety']"
   ]
  },
  {
   "cell_type": "code",
   "execution_count": 29,
   "id": "6d15eef0",
   "metadata": {},
   "outputs": [
    {
     "data": {
      "text/html": [
       "<div>\n",
       "<style scoped>\n",
       "    .dataframe tbody tr th:only-of-type {\n",
       "        vertical-align: middle;\n",
       "    }\n",
       "\n",
       "    .dataframe tbody tr th {\n",
       "        vertical-align: top;\n",
       "    }\n",
       "\n",
       "    .dataframe thead th {\n",
       "        text-align: right;\n",
       "    }\n",
       "</style>\n",
       "<table border=\"1\" class=\"dataframe\">\n",
       "  <thead>\n",
       "    <tr style=\"text-align: right;\">\n",
       "      <th></th>\n",
       "      <th>sepal.length</th>\n",
       "      <th>sepal.width</th>\n",
       "      <th>petal.length</th>\n",
       "      <th>petal.width</th>\n",
       "    </tr>\n",
       "  </thead>\n",
       "  <tbody>\n",
       "    <tr>\n",
       "      <th>0</th>\n",
       "      <td>5.1</td>\n",
       "      <td>3.5</td>\n",
       "      <td>1.4</td>\n",
       "      <td>0.2</td>\n",
       "    </tr>\n",
       "    <tr>\n",
       "      <th>1</th>\n",
       "      <td>4.9</td>\n",
       "      <td>3.0</td>\n",
       "      <td>1.4</td>\n",
       "      <td>0.2</td>\n",
       "    </tr>\n",
       "    <tr>\n",
       "      <th>2</th>\n",
       "      <td>4.7</td>\n",
       "      <td>3.2</td>\n",
       "      <td>1.3</td>\n",
       "      <td>0.2</td>\n",
       "    </tr>\n",
       "    <tr>\n",
       "      <th>3</th>\n",
       "      <td>4.6</td>\n",
       "      <td>3.1</td>\n",
       "      <td>1.5</td>\n",
       "      <td>0.2</td>\n",
       "    </tr>\n",
       "    <tr>\n",
       "      <th>4</th>\n",
       "      <td>5.0</td>\n",
       "      <td>3.6</td>\n",
       "      <td>1.4</td>\n",
       "      <td>0.2</td>\n",
       "    </tr>\n",
       "  </tbody>\n",
       "</table>\n",
       "</div>"
      ],
      "text/plain": [
       "   sepal.length  sepal.width  petal.length  petal.width\n",
       "0           5.1          3.5           1.4          0.2\n",
       "1           4.9          3.0           1.4          0.2\n",
       "2           4.7          3.2           1.3          0.2\n",
       "3           4.6          3.1           1.5          0.2\n",
       "4           5.0          3.6           1.4          0.2"
      ]
     },
     "execution_count": 29,
     "metadata": {},
     "output_type": "execute_result"
    }
   ],
   "source": [
    "x.head()"
   ]
  },
  {
   "cell_type": "code",
   "execution_count": 30,
   "id": "4d6adb25",
   "metadata": {},
   "outputs": [],
   "source": [
    "from sklearn.preprocessing import StandardScaler"
   ]
  },
  {
   "cell_type": "code",
   "execution_count": 31,
   "id": "1402eadc",
   "metadata": {},
   "outputs": [],
   "source": [
    "x_s = StandardScaler().fit_transform(x)"
   ]
  },
  {
   "cell_type": "code",
   "execution_count": 32,
   "id": "3716701d",
   "metadata": {},
   "outputs": [
    {
     "data": {
      "text/plain": [
       "-4.736951571734001e-16"
      ]
     },
     "execution_count": 32,
     "metadata": {},
     "output_type": "execute_result"
    }
   ],
   "source": [
    "x_s[:,0].mean()"
   ]
  },
  {
   "cell_type": "code",
   "execution_count": 33,
   "id": "059afce8",
   "metadata": {},
   "outputs": [],
   "source": [
    "from sklearn.decomposition import PCA"
   ]
  },
  {
   "cell_type": "code",
   "execution_count": 34,
   "id": "f7af4ebb",
   "metadata": {},
   "outputs": [],
   "source": [
    "pca=PCA(n_components=3)"
   ]
  },
  {
   "cell_type": "code",
   "execution_count": 35,
   "id": "ce844f52",
   "metadata": {},
   "outputs": [],
   "source": [
    "pca_data = pca.fit_transform(x_s)"
   ]
  },
  {
   "cell_type": "code",
   "execution_count": 36,
   "id": "85ff9b50",
   "metadata": {},
   "outputs": [
    {
     "data": {
      "text/plain": [
       "array([[-2.26470281,  0.4800266 , -0.12770602],\n",
       "       [-2.08096115, -0.67413356, -0.23460885],\n",
       "       [-2.36422905, -0.34190802,  0.04420148],\n",
       "       [-2.29938422, -0.59739451,  0.09129011],\n",
       "       [-2.38984217,  0.64683538,  0.0157382 ],\n",
       "       [-2.07563095,  1.48917752,  0.02696829],\n",
       "       [-2.44402884,  0.0476442 ,  0.3354704 ],\n",
       "       [-2.23284716,  0.22314807, -0.0886955 ],\n",
       "       [-2.33464048, -1.11532768,  0.14507686],\n",
       "       [-2.18432817, -0.46901356, -0.25376557],\n",
       "       [-2.1663101 ,  1.04369065, -0.2686811 ],\n",
       "       [-2.32613087,  0.13307834,  0.09375924],\n",
       "       [-2.2184509 , -0.72867617, -0.23091124],\n",
       "       [-2.6331007 , -0.96150673,  0.18079608],\n",
       "       [-2.1987406 ,  1.86005711, -0.472901  ],\n",
       "       [-2.26221453,  2.68628449,  0.03052661],\n",
       "       [-2.2075877 ,  1.48360936, -0.00534409],\n",
       "       [-2.19034951,  0.48883832, -0.04421532],\n",
       "       [-1.898572  ,  1.40501879, -0.37434327],\n",
       "       [-2.34336905,  1.12784938,  0.13263047],\n",
       "       [-1.914323  ,  0.40885571, -0.42129259],\n",
       "       [-2.20701284,  0.92412143,  0.15986528],\n",
       "       [-2.7743447 ,  0.45834367,  0.3321791 ],\n",
       "       [-1.81866953,  0.08555853,  0.0344886 ],\n",
       "       [-2.22716331,  0.13725446,  0.11799354],\n",
       "       [-1.95184633, -0.62561859, -0.30564098],\n",
       "       [-2.05115137,  0.24216355,  0.08636401],\n",
       "       [-2.16857717,  0.52714953, -0.20681625],\n",
       "       [-2.13956345,  0.31321781, -0.27115024],\n",
       "       [-2.26526149, -0.3377319 ,  0.06843578],\n",
       "       [-2.14012214, -0.50454069, -0.07500844],\n",
       "       [-1.83159477,  0.42369507, -0.27046738],\n",
       "       [-2.61494794,  1.79357586,  0.04722842],\n",
       "       [-2.44617739,  2.15072788, -0.08266805],\n",
       "       [-2.10997488, -0.46020184, -0.17027486],\n",
       "       [-2.2078089 , -0.2061074 , -0.22544158],\n",
       "       [-2.04514621,  0.66155811, -0.48453741],\n",
       "       [-2.52733191,  0.59229277,  0.01943581],\n",
       "       [-2.42963258, -0.90418004,  0.19325466],\n",
       "       [-2.16971071,  0.26887896, -0.17588382],\n",
       "       [-2.28647514,  0.44171539,  0.03489491],\n",
       "       [-1.85812246, -2.33741516, -0.20423422],\n",
       "       [-2.5536384 , -0.47910069,  0.30576645],\n",
       "       [-1.96444768,  0.47232667,  0.30960132],\n",
       "       [-2.13705901,  1.14222926,  0.24843356],\n",
       "       [-2.0697443 , -0.71105273, -0.06392983],\n",
       "       [-2.38473317,  1.1204297 ,  0.05721786],\n",
       "       [-2.39437631, -0.38624687,  0.1394679 ],\n",
       "       [-2.22944655,  0.99795976, -0.18149278],\n",
       "       [-2.20383344,  0.00921636, -0.15302949],\n",
       "       [ 1.10178118,  0.86297242, -0.68458616],\n",
       "       [ 0.73133743,  0.59461473, -0.09412172],\n",
       "       [ 1.24097932,  0.61629765, -0.55400684],\n",
       "       [ 0.40748306, -1.75440399, -0.02310177],\n",
       "       [ 1.0754747 , -0.20842105, -0.39825552],\n",
       "       [ 0.38868734, -0.59328364,  0.12419155],\n",
       "       [ 0.74652974,  0.77301931,  0.1489694 ],\n",
       "       [-0.48732274, -1.85242909,  0.24926527],\n",
       "       [ 0.92790164,  0.03222608, -0.59616936],\n",
       "       [ 0.01142619, -1.03401828,  0.53889939],\n",
       "       [-0.11019628, -2.65407282, -0.04679044],\n",
       "       [ 0.44069345, -0.06329519,  0.20507382],\n",
       "       [ 0.56210831, -1.76472438, -0.76577139],\n",
       "       [ 0.71956189, -0.18622461, -0.06865895],\n",
       "       [-0.0333547 , -0.43900321,  0.19493289],\n",
       "       [ 0.87540719,  0.50906396, -0.50351138],\n",
       "       [ 0.35025167, -0.19631173,  0.49087307],\n",
       "       [ 0.15881005, -0.79209574, -0.30203717],\n",
       "       [ 1.22509363, -1.6222438 , -0.48230402],\n",
       "       [ 0.1649179 , -1.30260923, -0.17283781],\n",
       "       [ 0.73768265,  0.39657156,  0.61652631],\n",
       "       [ 0.47628719, -0.41732028, -0.26495223],\n",
       "       [ 1.2341781 , -0.93332573, -0.36841227],\n",
       "       [ 0.6328582 , -0.41638772, -0.29189625],\n",
       "       [ 0.70266118, -0.06341182, -0.44602701],\n",
       "       [ 0.87427365,  0.25079339, -0.47257895],\n",
       "       [ 1.25650912, -0.07725602, -0.727155  ],\n",
       "       [ 1.35840512,  0.33131168, -0.26082658],\n",
       "       [ 0.66480037, -0.22592785,  0.08586389],\n",
       "       [-0.04025861, -1.05871855, -0.31957333],\n",
       "       [ 0.13079518, -1.56227183, -0.14998348],\n",
       "       [ 0.02345269, -1.57247559, -0.24155228],\n",
       "       [ 0.24153827, -0.77725638, -0.15121196],\n",
       "       [ 1.06109461, -0.63384324,  0.10531139],\n",
       "       [ 0.22397877, -0.28777351,  0.66524972],\n",
       "       [ 0.42913912,  0.84558224,  0.45063407],\n",
       "       [ 1.04872805,  0.5220518 , -0.39578638],\n",
       "       [ 1.04453138, -1.38298872, -0.68829596],\n",
       "       [ 0.06958832, -0.21950333,  0.29157927],\n",
       "       [ 0.28347724, -1.32932464,  0.08941002],\n",
       "       [ 0.27907778, -1.12002852,  0.0944876 ],\n",
       "       [ 0.62456979,  0.02492303, -0.02048115],\n",
       "       [ 0.33653037, -0.98840402, -0.19938976],\n",
       "       [-0.36218338, -2.01923787,  0.10582105],\n",
       "       [ 0.28858624, -0.85573032,  0.13088969],\n",
       "       [ 0.09136066, -0.18119213,  0.12897834],\n",
       "       [ 0.22771687, -0.38492008,  0.15621315],\n",
       "       [ 0.57638829, -0.1548736 , -0.27165036],\n",
       "       [-0.44766702, -1.54379203,  0.19040093],\n",
       "       [ 0.25673059, -0.5988518 ,  0.09187916],\n",
       "       [ 1.84456887,  0.87042131,  1.00540102],\n",
       "       [ 1.15788161, -0.69886986,  0.53016015],\n",
       "       [ 2.20526679,  0.56201048, -0.20291417],\n",
       "       [ 1.44015066, -0.04698759,  0.16363011],\n",
       "       [ 1.86781222,  0.29504482,  0.39562837],\n",
       "       [ 2.75187334,  0.8004092 , -0.5823091 ],\n",
       "       [ 0.36701769, -1.56150289,  0.98689327],\n",
       "       [ 2.30243944,  0.42006558, -0.65170644],\n",
       "       [ 2.00668647, -0.71143865, -0.39399057],\n",
       "       [ 2.25977735,  1.92101038,  0.3975519 ],\n",
       "       [ 1.36417549,  0.69275645,  0.28461207],\n",
       "       [ 1.60267867, -0.42170045,  0.02318641],\n",
       "       [ 1.8839007 ,  0.41924965,  0.02633841],\n",
       "       [ 1.2601151 , -1.16226042,  0.58024929],\n",
       "       [ 1.4676452 , -0.44227159,  1.00386957],\n",
       "       [ 1.59007732,  0.67624481,  0.63842871],\n",
       "       [ 1.47143146,  0.25562182,  0.03743126],\n",
       "       [ 2.42632899,  2.55666125, -0.12788146],\n",
       "       [ 3.31069558,  0.01778095, -0.7033053 ],\n",
       "       [ 1.26376667, -1.70674538, -0.26753689],\n",
       "       [ 2.0377163 ,  0.91046741,  0.23479948],\n",
       "       [ 0.97798073, -0.57176432,  0.8281272 ],\n",
       "       [ 2.89765149,  0.41364106, -0.85742182],\n",
       "       [ 1.33323218, -0.48181122, -0.00542836],\n",
       "       [ 1.7007339 ,  1.01392187,  0.29845061],\n",
       "       [ 1.95432671,  1.0077776 , -0.41998472],\n",
       "       [ 1.17510363, -0.31639447,  0.12993776],\n",
       "       [ 1.02095055,  0.06434603,  0.33771597],\n",
       "       [ 1.78834992, -0.18736121,  0.27065801],\n",
       "       [ 1.86364755,  0.56229073, -0.71563412],\n",
       "       [ 2.43595373,  0.25928443, -0.72781615],\n",
       "       [ 2.30492772,  2.62632347, -0.49347381],\n",
       "       [ 1.86270322, -0.17854949,  0.35414871],\n",
       "       [ 1.11414774, -0.29292262, -0.18348839],\n",
       "       [ 1.2024733 , -0.81131527, -0.16472376],\n",
       "       [ 2.79877045,  0.85680333, -0.5429065 ],\n",
       "       [ 1.57625591,  1.06858111,  0.94585382],\n",
       "       [ 1.3462921 ,  0.42243061,  0.18087548],\n",
       "       [ 0.92482492,  0.0172231 ,  0.41682619],\n",
       "       [ 1.85204505,  0.67612817, -0.01267211],\n",
       "       [ 2.01481043,  0.61388564,  0.42833284],\n",
       "       [ 1.90178409,  0.68957549,  0.13007501],\n",
       "       [ 1.15788161, -0.69886986,  0.53016015],\n",
       "       [ 2.04055823,  0.8675206 ,  0.338144  ],\n",
       "       [ 1.9981471 ,  1.04916875,  0.63241344],\n",
       "       [ 1.87050329,  0.38696608,  0.25627385],\n",
       "       [ 1.56458048, -0.89668681, -0.02637135],\n",
       "       [ 1.5211705 ,  0.26906914,  0.18017838],\n",
       "       [ 1.37278779,  1.01125442,  0.93339524],\n",
       "       [ 0.96065603, -0.02433167,  0.52824881]])"
      ]
     },
     "execution_count": 36,
     "metadata": {},
     "output_type": "execute_result"
    }
   ],
   "source": [
    "pca_data"
   ]
  },
  {
   "cell_type": "code",
   "execution_count": 37,
   "id": "582f3135",
   "metadata": {},
   "outputs": [
    {
     "data": {
      "text/plain": [
       "array([0.72962445, 0.22850762, 0.03668922])"
      ]
     },
     "execution_count": 37,
     "metadata": {},
     "output_type": "execute_result"
    }
   ],
   "source": [
    "pca.explained_variance_ratio_"
   ]
  },
  {
   "cell_type": "markdown",
   "id": "27ddefa1",
   "metadata": {},
   "source": [
    "## Scree plot"
   ]
  },
  {
   "cell_type": "code",
   "execution_count": 38,
   "id": "a3c2aae1",
   "metadata": {},
   "outputs": [
    {
     "data": {
      "image/png": "[encoded data removed]",
      "text/plain": [
       "<Figure size 432x288 with 1 Axes>"
      ]
     },
     "metadata": {
      "needs_background": "light"
     },
     "output_type": "display_data"
    }
   ],
   "source": [
    "var = pca.explained_variance_ratio_\n",
    "pc_val=np.arange(pca.n_components)+1\n",
    "plt.plot(pc_val, var, 'o-',linewidth=2, color='r')\n",
    "plt.bar(pc_val,var)\n",
    "plt.xticks([1,2,3])\n",
    "plt.xlabel('Principle Components')\n",
    "plt.ylabel('Explained variance')\n",
    "plt.show()"
   ]
  },
  {
   "cell_type": "code",
   "execution_count": 39,
   "id": "85c7b78f",
   "metadata": {},
   "outputs": [
    {
     "data": {
      "text/plain": [
       "0.9581320720000164"
      ]
     },
     "execution_count": 39,
     "metadata": {},
     "output_type": "execute_result"
    }
   ],
   "source": [
    "var[0]+var[1]"
   ]
  },
  {
   "cell_type": "code",
   "execution_count": 40,
   "id": "acb2c395",
   "metadata": {},
   "outputs": [],
   "source": [
    "pca = PCA(n_components=2)"
   ]
  },
  {
   "cell_type": "code",
   "execution_count": 41,
   "id": "ed782edb",
   "metadata": {},
   "outputs": [],
   "source": [
    "new_x = pca.fit_transform(x_s)"
   ]
  },
  {
   "cell_type": "code",
   "execution_count": 42,
   "id": "753f3e36",
   "metadata": {},
   "outputs": [],
   "source": [
    "red_data= pd.DataFrame({'PC1':new_x[:,0],'PC2':new_x[:,1],'variety':y})"
   ]
  },
  {
   "cell_type": "code",
   "execution_count": 43,
   "id": "83fb244f",
   "metadata": {},
   "outputs": [
    {
     "data": {
      "text/html": [
       "<div>\n",
       "<style scoped>\n",
       "    .dataframe tbody tr th:only-of-type {\n",
       "        vertical-align: middle;\n",
       "    }\n",
       "\n",
       "    .dataframe tbody tr th {\n",
       "        vertical-align: top;\n",
       "    }\n",
       "\n",
       "    .dataframe thead th {\n",
       "        text-align: right;\n",
       "    }\n",
       "</style>\n",
       "<table border=\"1\" class=\"dataframe\">\n",
       "  <thead>\n",
       "    <tr style=\"text-align: right;\">\n",
       "      <th></th>\n",
       "      <th>PC1</th>\n",
       "      <th>PC2</th>\n",
       "      <th>variety</th>\n",
       "    </tr>\n",
       "  </thead>\n",
       "  <tbody>\n",
       "    <tr>\n",
       "      <th>0</th>\n",
       "      <td>-2.264703</td>\n",
       "      <td>0.480027</td>\n",
       "      <td>Setosa</td>\n",
       "    </tr>\n",
       "    <tr>\n",
       "      <th>1</th>\n",
       "      <td>-2.080961</td>\n",
       "      <td>-0.674134</td>\n",
       "      <td>Setosa</td>\n",
       "    </tr>\n",
       "    <tr>\n",
       "      <th>2</th>\n",
       "      <td>-2.364229</td>\n",
       "      <td>-0.341908</td>\n",
       "      <td>Setosa</td>\n",
       "    </tr>\n",
       "    <tr>\n",
       "      <th>3</th>\n",
       "      <td>-2.299384</td>\n",
       "      <td>-0.597395</td>\n",
       "      <td>Setosa</td>\n",
       "    </tr>\n",
       "    <tr>\n",
       "      <th>4</th>\n",
       "      <td>-2.389842</td>\n",
       "      <td>0.646835</td>\n",
       "      <td>Setosa</td>\n",
       "    </tr>\n",
       "    <tr>\n",
       "      <th>...</th>\n",
       "      <td>...</td>\n",
       "      <td>...</td>\n",
       "      <td>...</td>\n",
       "    </tr>\n",
       "    <tr>\n",
       "      <th>145</th>\n",
       "      <td>1.870503</td>\n",
       "      <td>0.386966</td>\n",
       "      <td>Virginica</td>\n",
       "    </tr>\n",
       "    <tr>\n",
       "      <th>146</th>\n",
       "      <td>1.564580</td>\n",
       "      <td>-0.896687</td>\n",
       "      <td>Virginica</td>\n",
       "    </tr>\n",
       "    <tr>\n",
       "      <th>147</th>\n",
       "      <td>1.521170</td>\n",
       "      <td>0.269069</td>\n",
       "      <td>Virginica</td>\n",
       "    </tr>\n",
       "    <tr>\n",
       "      <th>148</th>\n",
       "      <td>1.372788</td>\n",
       "      <td>1.011254</td>\n",
       "      <td>Virginica</td>\n",
       "    </tr>\n",
       "    <tr>\n",
       "      <th>149</th>\n",
       "      <td>0.960656</td>\n",
       "      <td>-0.024332</td>\n",
       "      <td>Virginica</td>\n",
       "    </tr>\n",
       "  </tbody>\n",
       "</table>\n",
       "<p>150 rows × 3 columns</p>\n",
       "</div>"
      ],
      "text/plain": [
       "          PC1       PC2    variety\n",
       "0   -2.264703  0.480027     Setosa\n",
       "1   -2.080961 -0.674134     Setosa\n",
       "2   -2.364229 -0.341908     Setosa\n",
       "3   -2.299384 -0.597395     Setosa\n",
       "4   -2.389842  0.646835     Setosa\n",
       "..        ...       ...        ...\n",
       "145  1.870503  0.386966  Virginica\n",
       "146  1.564580 -0.896687  Virginica\n",
       "147  1.521170  0.269069  Virginica\n",
       "148  1.372788  1.011254  Virginica\n",
       "149  0.960656 -0.024332  Virginica\n",
       "\n",
       "[150 rows x 3 columns]"
      ]
     },
     "execution_count": 43,
     "metadata": {},
     "output_type": "execute_result"
    }
   ],
   "source": [
    "red_data"
   ]
  },
  {
   "cell_type": "code",
   "execution_count": 44,
   "id": "908275b1",
   "metadata": {},
   "outputs": [
    {
     "data": {
      "image/png": "[encoded data removed]",
      "text/plain": [
       "<Figure size 432x288 with 1 Axes>"
      ]
     },
     "metadata": {
      "needs_background": "light"
     },
     "output_type": "display_data"
    }
   ],
   "source": [
    "sns.scatterplot(x='PC1', y='PC2', hue='variety', data=red_data)\n",
    "plt.show()"
   ]
  },
  {
   "cell_type": "code",
   "execution_count": null,
   "id": "dd53ccea",
   "metadata": {},
   "outputs": [],
   "source": []
  }
 ],
 "metadata": {
  "kernelspec": {
   "display_name": "Python 3 (ipykernel)",
   "language": "python",
   "name": "python3"
  },
  "language_info": {
   "codemirror_mode": {
    "name": "ipython",
    "version": 3
   },
   "file_extension": ".py",
   "mimetype": "text/x-python",
   "name": "python",
   "nbconvert_exporter": "python",
   "pygments_lexer": "ipython3",
   "version": "3.9.7"
  }
 },
 "nbformat": 4,
 "nbformat_minor": 5
}
